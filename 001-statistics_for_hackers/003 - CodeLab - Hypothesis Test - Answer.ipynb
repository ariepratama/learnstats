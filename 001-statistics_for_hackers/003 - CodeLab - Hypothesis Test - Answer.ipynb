{
 "cells": [
  {
   "cell_type": "markdown",
   "metadata": {},
   "source": [
    "# Hypothesis Testing\n",
    "\n",
    "Borrowing the case from previous codelab, about CTP and coin toss, we could rephrase our method to answer into a common statistical problem of Hypothesis Testing. \n",
    "\n",
    "Hypothesis testing, according to wolfram $^{[1]}$ is:\n",
    "> the use of statistics to determine the probability that a given hypothesis is true\n",
    "\n",
    "Todo this usually we:\n",
    "1. Determine Null Hypothesis ($H_{0}$) and Alternative Hypothesis ($H_{1})$.\n",
    "2. Identify test statistics to assess Null hypothesis's truth.\n",
    "3. Compute $p$-value, which is the probability that a test statistics at least significant\n",
    "4. Compare $p$-value to an $\\alpha$. If $p \\leq \\alpha$ then null hypothesis will be accepted, else if $\\alpha < p$ then null hypothesis will be rejected and alternative hypothesis will be accepted.\n",
    "\n",
    "\n",
    "Right.\n",
    "<div>\n",
    "    <img src=\"https://media.giphy.com/media/3o7TKyhhUW9gVsHiF2/giphy.gif\" alt=\"001.gif\" width=\"300\" height=\"300\" />\n",
    "    <img src=\"https://media.giphy.com/media/Bp3dFfoqpCKFyXuSzP/giphy.gif\" alt=\"002.gif\" width=\"300\" height=\"300\" />\n",
    "</div>\n"
   ]
  },
  {
   "cell_type": "markdown",
   "metadata": {},
   "source": [
    "Let me *hopefully* help to explain this slower. \n",
    "\n",
    "$H_0$ is usually set from our *a priori* knowledge, or from our known knowledge. So in the coin problem our $H_0$:\n",
    "> The coin is a fair coin\n",
    "\n",
    "We do know / assume that all coins are fair, because it always consists of 1 Head and 1 Tail. \n",
    "\n",
    "\n",
    "\n",
    "$H_1$, on the other hand, the observations show a real effect combined with a component of chance variation. In the coin problem our $H_1$:\n",
    "> The coin is not a fair coin\n",
    "\n",
    "\n"
   ]
  },
  {
   "cell_type": "markdown",
   "metadata": {},
   "source": [
    "$H_0 = $ The coin is a fair coin\n",
    "\n",
    "$H_1 = $ The coin is not a fair coin, more favor to head\n",
    "\n",
    "We can re-write a more clearer definition of fair coin, from our observation. We know that a fair coin, with 30 times tosses should results in about 15 heads, which favor to less than 22 heads $P[X\\leq22]$. On the other hand, a non fair coin should favor head, which translates to more than or equal to 22 heads $P[X>22]$. \n",
    "\n",
    "We then set our confidence level to 95% (just because there are many people using this confidence level, you can set it to 99% though), which means if the $p$-value get lower than $0.05$, then **reject the null hypothesis** and we accept our alternative hypothesis that the coin is not fair."
   ]
  },
  {
   "cell_type": "code",
   "execution_count": 2,
   "metadata": {},
   "outputs": [],
   "source": [
    "import scipy.stats as st\n",
    "import matplotlib.pyplot as plt"
   ]
  },
  {
   "cell_type": "code",
   "execution_count": 81,
   "metadata": {},
   "outputs": [
    {
     "name": "stdout",
     "output_type": "stream",
     "text": [
      "Chance to get exactly 22 head, out of 30 tosses is 0.55%\n"
     ]
    }
   ],
   "source": [
    "n_tosses = 30\n",
    "n_head = 22\n",
    "prior = 0.5\n",
    "\n",
    "chance_getting_head = st.binom.pmf(n_head, n_tosses, prior) \n",
    "\n",
    "print('Chance to get exactly {} head, out of {} tosses is {:.2%}'.format(n_head, n_tosses, chance_getting_head))"
   ]
  },
  {
   "cell_type": "code",
   "execution_count": 84,
   "metadata": {},
   "outputs": [
    {
     "name": "stdout",
     "output_type": "stream",
     "text": [
      "p-value 0.003 is less than alpha 0.05, thus we reject the null hypothesis\n"
     ]
    }
   ],
   "source": [
    "alpha = 0.05\n",
    "p_val = 1 - st.binom.cdf(n_head, n_tosses, p=prior)\n",
    "msg  = 'p-value {:.3f} is '.format(p_val)\n",
    "\n",
    "if p_val < alpha:\n",
    "    msg += 'less than alpha {:.2f}, thus we reject the null hypothesis'.format(alpha)\n",
    "else:\n",
    "    msg += 'more than equal alpha {:.2f}, thus we accept the null hypothesis'.format(alpha)\n",
    "    \n",
    "print(msg)"
   ]
  },
  {
   "cell_type": "markdown",
   "metadata": {},
   "source": [
    "# References\n",
    "[1] http://mathworld.wolfram.com/HypothesisTesting.html"
   ]
  }
 ],
 "metadata": {
  "kernelspec": {
   "display_name": "Python 3",
   "language": "python",
   "name": "python3"
  },
  "language_info": {
   "codemirror_mode": {
    "name": "ipython",
    "version": 3
   },
   "file_extension": ".py",
   "mimetype": "text/x-python",
   "name": "python",
   "nbconvert_exporter": "python",
   "pygments_lexer": "ipython3",
   "version": "3.5.4"
  }
 },
 "nbformat": 4,
 "nbformat_minor": 2
}
