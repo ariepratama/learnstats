{
 "cells": [
  {
   "cell_type": "markdown",
   "metadata": {},
   "source": [
    "# Welcome To Statistics For Hackers Code Lab!\n",
    "\n",
    "These series of codelabs aims to bridge your statistics and programming knowledge.\n",
    "\n"
   ]
  },
  {
   "cell_type": "code",
   "execution_count": 102,
   "metadata": {},
   "outputs": [],
   "source": [
    "import numpy as np\n",
    "from func import *"
   ]
  },
  {
   "cell_type": "markdown",
   "metadata": {},
   "source": [
    "## Probabilty\n",
    "\n",
    "If you have heard about probability, then I assume you have heard the legend about coin toss. Let me give you one example question about coin toss\n",
    "> You toss a coin *30 times* and see *22 heads*. Is it a fair coin?\n",
    "\n",
    "Fair coin? Ah you mean the probability of getting heads and tail is same, right? so if the coin was tossed **30 times** we would expect it shows 15 heads and 15 tails. Therefore the simplest thing comes up in our mind might be, *this coin is not a fair coin*.\n",
    "\n",
    "\n",
    "![Wait there's more](https://4.bp.blogspot.com/-_p6FcOxcF40/V4qMIqJ-lgI/AAAAAAAAd5k/oLd3oWLoz9MnGc5jvrK82yhpPe378J3RQCLcB/s1600/65139254.jpg)\n",
    "\n",
    "\n",
    "There's one more question:\n",
    "\n",
    "> Isn't we happened to get 22 heads by chance?\n",
    "\n",
    "\n",
    "## Simulation\n",
    "How to answer this? by simulation! I will give you algorithm for this simulation\n",
    "\n",
    "```\n",
    "repeat N times\n",
    "    x <- draw 30 random sample of binaries (0, 1)\n",
    "    distribution.insert(compute sum of x)\n",
    "draw plot: yaxis is the frequency, xaxis is the sum of x\n",
    "```\n"
   ]
  },
  {
   "cell_type": "code",
   "execution_count": null,
   "metadata": {},
   "outputs": [],
   "source": [
    "np.random.seed(100)\n",
    "N = 10000\n",
    "sample_size = 30\n",
    "distribution = np.zeros(N)\n",
    "\n",
    "## TODO your code here\n",
    "## iterate through N, generate random integer of 0 or 1, 30 times, \n",
    "## count the frequency and put it in distribution variable distribution[n] = frequency\n",
    "## --------------------------\n",
    "\n",
    "# visualize\n",
    "unique, counts = np.unique(distribution, return_counts=True)\n",
    "draw_bar_plot_heads_counts(unique, counts)"
   ]
  },
  {
   "cell_type": "markdown",
   "metadata": {},
   "source": [
    "how to convert that into probabilities? Easy! we should divide all the frequencies by sum over all frequencies!"
   ]
  },
  {
   "cell_type": "code",
   "execution_count": null,
   "metadata": {},
   "outputs": [],
   "source": [
    "probabilities = # TODO fill in this\n",
    "\n",
    "# visualize\n",
    "draw_step_plot_head_probabilities(unique, probabilities)"
   ]
  },
  {
   "cell_type": "markdown",
   "metadata": {},
   "source": [
    "Okay we have built simulation that shows:\n",
    "> If we repeatedly do the 30 times toss, what would the number head be?\n",
    "\n",
    "It turns out the answer is not always 15! It could be 10, 20, or even 25! \n",
    "\n",
    "Now back to our question:\n",
    "\n",
    "> Isn't we happened to get 22 heads by chance?\n",
    "\n",
    "To answer this, we need to see what is our probability to get 22 heads, visually"
   ]
  },
  {
   "cell_type": "code",
   "execution_count": null,
   "metadata": {},
   "outputs": [],
   "source": [
    "what_we_get = # TODO What was we get?\n",
    "probability_of_what_we_get =  #TODO fill this,  should -1 because index start from 0\n",
    "\n",
    "\n",
    "draw_step_plot_head_probabilities(unique, probabilities, what_we_get, probability_of_what_we_get)"
   ]
  },
  {
   "cell_type": "markdown",
   "metadata": {},
   "source": [
    "It turns out this simulation shows that we do get 22 by chance (small chance)! We have almost make wrong decision about the coin and unfairly judge that this coin is unfair!"
   ]
  }
 ],
 "metadata": {
  "kernelspec": {
   "display_name": "Python 3",
   "language": "python",
   "name": "python3"
  },
  "language_info": {
   "codemirror_mode": {
    "name": "ipython",
    "version": 3
   },
   "file_extension": ".py",
   "mimetype": "text/x-python",
   "name": "python",
   "nbconvert_exporter": "python",
   "pygments_lexer": "ipython3",
   "version": "3.5.4"
  }
 },
 "nbformat": 4,
 "nbformat_minor": 2
}
