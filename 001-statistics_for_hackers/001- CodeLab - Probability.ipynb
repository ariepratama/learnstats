{
 "cells": [
  {
   "cell_type": "markdown",
   "metadata": {},
   "source": [
    "# Welcome to Statistics for Hackers Code Lab!\n",
    "\n",
    "This series of codelabs aims to bridge your statistics and programming knowledge."
   ]
  },
  {
   "cell_type": "code",
   "execution_count": 1,
   "metadata": {},
   "outputs": [],
   "source": [
    "import numpy as np\n",
    "from func import *"
   ]
  },
  {
   "cell_type": "markdown",
   "metadata": {},
   "source": [
    "## Probability\n",
    "\n",
    "If you have heard about probability, then I assume you have heard the legend of a coin toss. Let me give you one example question about coin toss\n",
    "\n",
    "> You toss a coin *30 times* and see *22 heads*. Is it a fair coin?\n",
    "\n",
    "Fair coin? Ah, you mean the probability of getting heads and tails is same, right? So, if the coin was tossed **30 times** we would expect it to show 15 heads and 15 tails. Therefore, the reasonable conclusion is that *it is not a fair coin*.\n",
    "\n",
    "![Wait there's more](https://4.bp.blogspot.com/-_p6FcOxcF40/V4qMIqJ-lgI/AAAAAAAAd5k/oLd3oWLoz9MnGc5jvrK82yhpPe378J3RQCLcB/s1600/65139254.jpg)\n",
    "\n",
    "There's one more question:\n",
    "\n",
    "> Would it be possible to get 22 heads by chance?\n",
    "\n",
    "## Simulation\n",
    "\n",
    "Since we are a *hacker*, we can do this by doing the things we love the most: by simulation!\n",
    "\n",
    "<img src=\"https://media.giphy.com/media/QbumCX9HFFDQA/giphy.gif\" alt=\"Hackerman\" style=\"width: 400px;\"/>\n",
    "\n",
    "Let's start with this algorithm for the simulation\n",
    "\n",
    "```\n",
    "repeat N times\n",
    "    x <- draw 30 random sample of binaries (0, 1)\n",
    "    distribution.insert(compute sum of x)\n",
    "draw plot: yaxis is the frequency, xaxis is the sum of x\n",
    "```\n"
   ]
  },
  {
   "cell_type": "code",
   "execution_count": 3,
   "metadata": {},
   "outputs": [
    {
     "data": {
      "image/png": "[encoded data removed]",
      "text/plain": [
       "<Figure size 864x504 with 1 Axes>"
      ]
     },
     "metadata": {
      "needs_background": "light"
     },
     "output_type": "display_data"
    }
   ],
   "source": [
    "np.random.seed(100)\n",
    "N = 10000\n",
    "sample_size = 30\n",
    "distribution = np.zeros(N)\n",
    "\n",
    "## TODO your code here\n",
    "## iterate through N, generate random integer of 0 or 1, 30 times, \n",
    "## count the frequency and put it in distribution variable distribution[n] = frequency\n",
    "## --------------------------\n",
    "\n",
    "# visualize\n",
    "unique, counts = np.unique(distribution, return_counts=True)\n",
    "draw_bar_plot_heads_counts(unique, counts)"
   ]
  },
  {
   "cell_type": "markdown",
   "metadata": {},
   "source": [
    "How to convert that into probability? Easy! We should divide all the frequency by the number of experiments we did $(N = 10000)$!"
   ]
  },
  {
   "cell_type": "code",
   "execution_count": null,
   "metadata": {},
   "outputs": [],
   "source": [
    "probabilities = # TODO fill in this\n",
    "\n",
    "# visualize\n",
    "draw_step_plot_head_probabilities(unique, probabilities)"
   ]
  },
  {
   "cell_type": "markdown",
   "metadata": {},
   "source": [
    "Okay we have done a simulation that shows:\n",
    "\n",
    "> If we repeatedly do the 30 times toss, what would the number of heads be?\n",
    "\n",
    "It turns out the answer is not always 15! It could be 10, 20, or even 25! \n",
    "\n",
    "Now, back to our question:\n",
    "\n",
    "> Would it be possible to get 22 heads by chance?\n",
    "\n",
    "To answer this, we need to see what is the probability to get 22 heads, visually."
   ]
  },
  {
   "cell_type": "code",
   "execution_count": null,
   "metadata": {},
   "outputs": [],
   "source": [
    "what_we_get = # TODO What was we get?\n",
    "probability_of_what_we_get =  #TODO fill this, hint: `use unique == what_we_get` to get the index\n",
    "\n",
    "\n",
    "draw_step_plot_head_probabilities(unique, probabilities, what_we_get, probability_of_what_we_get)"
   ]
  },
  {
   "cell_type": "markdown",
   "metadata": {},
   "source": [
    "It turns out this simulation shows that we do get 22 by chance (small chance)! We almost made a wrong decision about the coin and unfairly judge that the coin is unfair!"
   ]
  }
 ],
 "metadata": {
  "kernelspec": {
   "display_name": "Python 3",
   "language": "python",
   "name": "python3"
  },
  "language_info": {
   "codemirror_mode": {
    "name": "ipython",
    "version": 3
   },
   "file_extension": ".py",
   "mimetype": "text/x-python",
   "name": "python",
   "nbconvert_exporter": "python",
   "pygments_lexer": "ipython3",
   "version": "3.6.7"
  }
 },
 "nbformat": 4,
 "nbformat_minor": 2
}
