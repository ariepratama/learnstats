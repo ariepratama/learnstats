{
 "cells": [
  {
   "cell_type": "markdown",
   "metadata": {},
   "source": [
    "# Probability II\n",
    "\n",
    "We have determined whether a coin is fair or not. Now let's take more real example.\n",
    "\n",
    "## The Case\n",
    "Let's assume you are a data analyst/ scientist on one of travel ecommerce. You have a task to increase engagement for users to use our platform. To simplify our problem let's also assume that we only have two pages: \n",
    "\n",
    "### Home Page\n",
    "![HOme](img/002-01.png)\n",
    "\n",
    "### Search Result page\n",
    "![srp](img/002-02.png)\n",
    "\n",
    "**First thing first** as a quantitative analyst, you should ask to yourselves and to your business people:\n",
    "\n",
    "> What does it means by users engagement to our platform?\n",
    "\n",
    "One possible answer is **Tendency of users to use our platform functions**. How to measure such tendency then? getting back to the home page, we have search function. \n",
    "\n",
    "then we know that one of the possible answer is to measure usage in that button to move into search result page. Ofcourse, to quantify these measurements, we need some standard metrics.\n",
    "\n",
    "## Online Metric: Click Through Probability (CTP) and Click Through Rate (CTR)\n",
    "\n",
    "Here we have define two \"often used\" metrics to measure the page/function effectiveness, CTP $^{[1]}$ and CTR $^{[2]}$. Their definitions are:\n",
    "\n",
    "$$\n",
    "CTR = \\frac{number \\space of \\space click \\space in \\space funnel \\space 2}{number \\space of \\space click \\space in \\space funnel\\space  1}\n",
    "$$\n",
    "\n",
    "$$\n",
    "CTP = \\frac{number \\space of \\space unique \\space users \\space in \\space funnel \\space 2}{number \\space of \\space unique \\space users\\space  in \\space funnel\\space  1}\n",
    "$$\n",
    "\n",
    "\n",
    "for this case, \n",
    "\n",
    "$$\n",
    "CTR_{home\\_page-search\\_result\\_page} = \\frac{number \\space of \\space click \\space in \\space search\\_result\\_page}{number \\space of \\space click \\space in \\space home\\_page}\n",
    "$$\n",
    "\n",
    "$$\n",
    "CTP_{home\\_page-search\\_result\\_page} = \\frac{number \\space of \\space unique \\space users \\space in \\space search\\_result\\_page}{number \\space of \\space unique \\space users \\space  in \\space home\\_page}\n",
    "$$\n",
    "\n"
   ]
  },
  {
   "cell_type": "code",
   "execution_count": null,
   "metadata": {},
   "outputs": [],
   "source": [
    "%reload_ext autoreload\n",
    "%autoreload 2"
   ]
  },
  {
   "cell_type": "code",
   "execution_count": null,
   "metadata": {},
   "outputs": [],
   "source": [
    "import numpy as np\n",
    "import seaborn as sns\n",
    "import scipy.stats as st\n",
    "from func import *"
   ]
  },
  {
   "cell_type": "markdown",
   "metadata": {},
   "source": [
    "## Assumptions in This Notebook\n",
    "\n",
    "1. On 1 day there are **100 users** visiting home page, uniformly distributed and unchanged throughout the week. \n",
    "2. Within each day, there are **1000 visits** to home page and **200** click through towards search result page.\n",
    "\n",
    "\n",
    "Implement these assumption in simulation and function to calculate ctp and ctr."
   ]
  },
  {
   "cell_type": "code",
   "execution_count": null,
   "metadata": {},
   "outputs": [],
   "source": [
    "np.random.seed(310)\n",
    "# TODO generate random experiments\n",
    "users_activities_in_home_page = \n",
    "users_activities_in_srp = "
   ]
  },
  {
   "cell_type": "code",
   "execution_count": null,
   "metadata": {},
   "outputs": [],
   "source": [
    "def ctp(funnel_1_log, funnel_2_log):\n",
    "    \"\"\"\n",
    "    calculate the Click Through Probability between funnel 1 and funnel 2.\n",
    "    CTP should be 0 <= CTP <= 1\n",
    "    Args: \n",
    "    ----\n",
    "    funnel_1_log: list of int (user id)\n",
    "    funnel_2_log: list of int (user id)\n",
    "    \n",
    "    Output:\n",
    "    ----\n",
    "    ctp: float\n",
    "    \"\"\"\n",
    "    # TODO: code here\n",
    "\n",
    "def ctr(funnel_1_log, funnel_2_log):\n",
    "    \"\"\"\n",
    "    calculate the Click Through Rate between funnel 1 and funnel 2. \n",
    "    CTR may be more than 1, the only constraint that it has is\n",
    "    CTR >= 0\n",
    "    Args: \n",
    "    ----\n",
    "    funnel_1_log: list of int (user id)\n",
    "    funnel_2_log: list of int (user id)\n",
    "    \n",
    "    Output:\n",
    "    ----\n",
    "    ctr: float\n",
    "    \"\"\"    \n",
    "    # TODO: code here"
   ]
  },
  {
   "cell_type": "code",
   "execution_count": null,
   "metadata": {},
   "outputs": [],
   "source": [
    "ctp_current = ctp(users_activities_in_home_page, users_activities_in_srp)\n",
    "ctr_current = ctr(users_activities_in_home_page, users_activities_in_srp)\n",
    "# test if your functions has been correctly implemented\n",
    "assert np.isclose(ctp_current, 0.92)\n",
    "assert np.isclose(ctr_current, 0.2)"
   ]
  },
  {
   "cell_type": "markdown",
   "metadata": {},
   "source": [
    "We are only interested in CTP right now. So now the question is:\n",
    "\n",
    "> given this number what is our probability to get this number? \n",
    "\n",
    "\n",
    "So with above assumptions and this question, we might have an idea that we should generate a simulation."
   ]
  },
  {
   "cell_type": "code",
   "execution_count": null,
   "metadata": {},
   "outputs": [],
   "source": [
    "def simulate_ctp(\n",
    "    n_activities_home_page, n_activities_search_page, \n",
    "    n_users=100, n_simulations=500\n",
    "):\n",
    "    ctps = []\n",
    "    # TODO: code here\n",
    "    return np.array(ctps)"
   ]
  },
  {
   "cell_type": "code",
   "execution_count": null,
   "metadata": {},
   "outputs": [],
   "source": [
    "# DO NOT CHANGE THIS\n",
    "ctps = simulate_ctp(1000, 200)\n",
    "\n",
    "assert len(ctps) == 500"
   ]
  },
  {
   "cell_type": "markdown",
   "metadata": {},
   "source": [
    "Now we have generated enough simulations to draw what is the frequencies of each numbers to happen. But wait! there is a problem! if I group by the numbers of simulated ctps, I might get all count to zero! \n",
    "\n",
    "Why? because it is a continuous number!\n",
    "\n",
    "Solution? I have to bin each ctp. Hint: \n",
    "- Use `np.linspace` to generate bins, with lower bound 0.7 and upper bound 1, nbins = 20\n",
    "- Use `np.digitize` to group ctps to each bin\n",
    "- Use `np.unique` to generate bin index and bin counts"
   ]
  },
  {
   "cell_type": "code",
   "execution_count": null,
   "metadata": {},
   "outputs": [],
   "source": [
    "# TODO: code here\n",
    "bins = \n",
    "ctp_bins = \n",
    "ctp_bin_indexes, ctp_bin_counts = \n",
    "\n",
    "ctp_current_bin = np.digitize(ctp_current, bins)"
   ]
  },
  {
   "cell_type": "code",
   "execution_count": null,
   "metadata": {
    "scrolled": false
   },
   "outputs": [],
   "source": [
    "draw_ctp_happening_binned(\n",
    "    ctp_current, \n",
    "    bins, \n",
    "    ctp_bin_indexes, \n",
    "    ctp_bin_counts, \n",
    "    ctp_current_bin\n",
    ")"
   ]
  },
  {
   "cell_type": "markdown",
   "metadata": {},
   "source": [
    "### Bonus simulation\n",
    "\n",
    "Here's interactive version of graph that tell how the frequencies and probabilities changed over when we do 20 - thousands of simulations."
   ]
  },
  {
   "cell_type": "code",
   "execution_count": null,
   "metadata": {},
   "outputs": [],
   "source": [
    "draw_interactive_bar_plot_for_simulations(\n",
    "    make_df_for_simulations(simulate_ctp)\n",
    ")"
   ]
  },
  {
   "cell_type": "code",
   "execution_count": null,
   "metadata": {},
   "outputs": [],
   "source": [
    "draw_interactive_prob_bar_plot_for_simulations(\n",
    "    make_df_for_simulations(simulate_ctp)\n",
    ")"
   ]
  },
  {
   "cell_type": "markdown",
   "metadata": {},
   "source": [
    "## Probability Density Function & Cumulative Density Function\n"
   ]
  },
  {
   "cell_type": "markdown",
   "metadata": {},
   "source": [
    "There is a way to prevent simulations like this to be run over and over again, it is to use probability density function and cumulative density function.\n",
    "\n",
    "### Probability Density Function (PDF)\n",
    "\n",
    "For a **continuous variable** is essentially a mathematical model to predict $^{[4]}$\n",
    "\n",
    "> how much more likely it is that the random variable would equal one sample compared to the other sample\n",
    "\n",
    "\n",
    "or in much simpler word **\"how likely a number will happen?\"**\n",
    "\n",
    "You must not surprise that PDF function could be more than 1 like in this example, because PDF is not the probability itself, but relative probability.\n",
    "\n",
    "To calculate the probability of **a number** happening is **impossible** and will be near to 0. Why? because there are infinite numbers that approaches to that number. \n",
    "\n",
    "\n",
    "What we can do is to calculate\n",
    "> **The probability of a number will fall between a range**\n",
    "\n",
    "for example: the probability of a number will fall between $0.55$ and $0.63$. This would be a result to calculate area under curve for pdf.\n",
    "\n",
    "\n",
    "### Gaussian / Normal Distribution\n",
    "\n",
    "A gaussian distribution $^{[3]}$ is a most common distribution that has been used in assumptions. It shaped like a bell curved and we will draw this in the code, instead of showing you a picture. Assume that this CTPs are spread like a bell curve, we will need at least 2 parameters to generate the gaussian distribution: **mean and variance**. A variance could be replaced by **standard deviation** because it is essentially:\n",
    "\n",
    "$$\n",
    "variance = \\sigma(x)^2\n",
    "$$\n",
    "\n",
    "where $\\sigma(x)$ is the standard deviation of random variable $x$."
   ]
  },
  {
   "cell_type": "code",
   "execution_count": null,
   "metadata": {},
   "outputs": [],
   "source": [
    "# TODO: code here\n",
    "mean_ctp = \n",
    "std_ctp = \n",
    "lower_1_sigma_ctp, upper_1_sigma_ctp = "
   ]
  },
  {
   "cell_type": "markdown",
   "metadata": {},
   "source": [
    "now we could draw ctps distribution using just 1 function with seaborn:\n",
    "\n",
    "```python\n",
    "sns.distplot(random_variable)\n",
    "```\n",
    "\n",
    "while the other code below will just be a complementary to explain and annotate each points"
   ]
  },
  {
   "cell_type": "code",
   "execution_count": null,
   "metadata": {},
   "outputs": [],
   "source": [
    "f, ax = plt.subplots(figsize=(12, 7))\n",
    "\n",
    "\n",
    "# TODO: code here using sns distplot, 1 line only\n",
    "\n",
    "plt.axvline(mean_ctp, color='red')\n",
    "plt.axvline(lower_1_sigma_ctp, color='red')\n",
    "plt.axvline(upper_1_sigma_ctp, color='red')\n",
    "plt.axvspan(lower_1_sigma_ctp, upper_1_sigma_ctp, color='red', alpha=0.2)\n",
    "plt.axvline(ctp_current, color='green')\n",
    "values = dict(\n",
    "    mean=mean_ctp,\n",
    "    lower_1_sigma=lower_1_sigma_ctp,\n",
    "    upper_1_sigma=upper_1_sigma_ctp,\n",
    "    ctp_current=ctp_current\n",
    ")\n",
    "for k, val in values.items():\n",
    "    \n",
    "    x_text, y_text = val + np.random.uniform(-std_ctp, std_ctp), st.norm.pdf(val, loc=mean_ctp, scale=std_ctp)\n",
    "    plt.annotate(\n",
    "        '{}: {:.2f}'.format(k, val),\n",
    "        (val,8),\n",
    "        xytext=(x_text, y_text),\n",
    "        arrowprops=dict(\n",
    "            arrowstyle='-|>',\n",
    "            connectionstyle='angle3'\n",
    "        )\n",
    "    )\n",
    "\n",
    "plt.title('Distribution of CTP')\n",
    "plt.show()"
   ]
  },
  {
   "cell_type": "markdown",
   "metadata": {},
   "source": [
    "Yaxis shows the PDF result for each point in Xaxis. As we have said earlier, this PDF function allowed to surpasses 1, because it is not exactly probability but rather relative probability.\n",
    "\n",
    "\n",
    "Now to get a hang for gaussian distribution pdf you might be as well implement the formula $^{[3]}$ by yourselves and test with our unit test below"
   ]
  },
  {
   "cell_type": "code",
   "execution_count": null,
   "metadata": {},
   "outputs": [],
   "source": [
    "def gaussian_dist_pdf(x, mean, std):\n",
    "    # TODO: code here\n"
   ]
  },
  {
   "cell_type": "code",
   "execution_count": null,
   "metadata": {},
   "outputs": [],
   "source": [
    "assert np.isclose(\n",
    "    gaussian_dist_pdf(0.85, mean_ctp, std_ctp),\n",
    "    st.norm.pdf(0.85, loc=mean_ctp, scale=std_ctp)\n",
    ")"
   ]
  },
  {
   "cell_type": "markdown",
   "metadata": {},
   "source": [
    "### Cumulative Density Function (CDF)\n",
    "\n",
    "The CDF is a function to calculate **probability** of a number will fall below certain number. Yes it will sum up to 1 because it is the probability, unlike probability density function. Now how do we calculate the probability of $0.92$ ctp happening in our case? Then we could just use CDF range!\n",
    "\n",
    "$$\n",
    "Prob_{0.92} = CDF_{0.90} - CDF_{0.92}\n",
    "$$"
   ]
  },
  {
   "cell_type": "code",
   "execution_count": null,
   "metadata": {},
   "outputs": [],
   "source": [
    "# TODO: code here\n",
    "prob_092 = "
   ]
  },
  {
   "cell_type": "code",
   "execution_count": null,
   "metadata": {},
   "outputs": [],
   "source": [
    "assert np.isclose(prob_092, 0.087802724)\n",
    "\n",
    "print('The probabilty is {:.1f}%'.format(prob_092 * 100))"
   ]
  },
  {
   "cell_type": "markdown",
   "metadata": {},
   "source": [
    "And this results produces same probabilty as our simulation!"
   ]
  },
  {
   "cell_type": "markdown",
   "metadata": {},
   "source": [
    "# References\n",
    "\n",
    "[1] 12 Estimating Click Through Probability. (2019). Retrieved from [https://www.youtube.com/watch?v=LFLSApHc-jM](https://www.youtube.com/watch?v=LFLSApHc-jM)\n",
    "\n",
    "[2] Wikipediaorg. (2019). Wikipediaorg. Retrieved 9 April, 2019, from https://en.wikipedia.org/wiki/Click-through_rate\n",
    "\n",
    "\n",
    "[3] Wikipediaorg. (2019). Wikipediaorg. Retrieved 9 April, 2019, from https://en.wikipedia.org/wiki/Normal_distribution\n",
    "\n",
    "[4] Wikipediaorg. (2019). Wikipediaorg. Retrieved 9 April, 2019, from https://en.wikipedia.org/wiki/Probability_density_function\n"
   ]
  }
 ],
 "metadata": {
  "kernelspec": {
   "display_name": "Python 3",
   "language": "python",
   "name": "python3"
  },
  "language_info": {
   "codemirror_mode": {
    "name": "ipython",
    "version": 3
   },
   "file_extension": ".py",
   "mimetype": "text/x-python",
   "name": "python",
   "nbconvert_exporter": "python",
   "pygments_lexer": "ipython3",
   "version": "3.5.4"
  }
 },
 "nbformat": 4,
 "nbformat_minor": 2
}
