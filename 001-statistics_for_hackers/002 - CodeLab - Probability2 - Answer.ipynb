{
 "cells": [
  {
   "cell_type": "markdown",
   "metadata": {},
   "source": [
    "# Probability II\n",
    "\n",
    "We have determined whether a coin is fair or not. Now let's take more real example.\n",
    "\n",
    "## The Case\n",
    "Let's assume you are a data analyst/ scientist on one of travel ecommerce. You have a task to increase engagement for users to use our platform. To simplify our problem let's also assume that we only have two pages: \n",
    "\n",
    "### Home Page\n",
    "![HOme](img/002-01.png)\n",
    "\n",
    "### Search Result page\n",
    "![srp](img/002-02.png)\n",
    "\n",
    "**First thing first** as a quantitative analyst, you should ask to yourselves and to your business people:\n",
    "\n",
    "> What does it means by users engagement to our platform?\n",
    "\n",
    "One possible answer is **Tendency of users to use our platform functions**. How to measure such tendency then? getting back to the home page, we have search function. \n",
    "\n",
    "then we know that one of the possible answer is to measure usage in that button to move into search result page. Ofcourse, to quantify these measurements, we need some standard metrics.\n",
    "\n",
    "## Online Metric: Click Through Probability (CTP) and Click Through Rate (CTR)\n",
    "\n",
    "Here we have define two \"often used\" metrics to measure the page/function effectiveness. Their definitions are:\n",
    "\n",
    "$$\n",
    "CTR = \\frac{number \\space of \\space click \\space in \\space funnel \\space 2}{number \\space of \\space click \\space in \\space funnel\\space  1}\n",
    "$$\n",
    "\n",
    "$$\n",
    "CTP = \\frac{number \\space of \\space unique \\space users \\space in \\space funnel \\space 2}{number \\space of \\space unique \\space users\\space  in \\space funnel\\space  1}\n",
    "$$\n",
    "\n",
    "\n",
    "for this case, \n",
    "\n",
    "$$\n",
    "CTR_{home\\_page-search\\_result\\_page} = \\frac{number \\space of \\space click \\space in \\space search\\_result\\_page}{number \\space of \\space click \\space in \\space home\\_page}\n",
    "$$\n",
    "\n",
    "$$\n",
    "CTP_{home\\_page-search\\_result\\_page} = \\frac{number \\space of \\space unique \\space users \\space in \\space search\\_result\\_page}{number \\space of \\space unique \\space users \\space  in \\space home\\_page}\n",
    "$$\n",
    "\n"
   ]
  },
  {
   "cell_type": "code",
   "execution_count": 1,
   "metadata": {},
   "outputs": [],
   "source": [
    "%reload_ext autoreload\n",
    "%autoreload 2"
   ]
  },
  {
   "cell_type": "code",
   "execution_count": 2,
   "metadata": {},
   "outputs": [],
   "source": [
    "import numpy as np\n",
    "import seaborn as sns\n",
    "import scipy.stats as st\n",
    "from func import *"
   ]
  },
  {
   "cell_type": "markdown",
   "metadata": {},
   "source": [
    "On 1 day there are 100 users visiting home page"
   ]
  },
  {
   "cell_type": "code",
   "execution_count": 3,
   "metadata": {},
   "outputs": [],
   "source": [
    "np.random.seed(310)\n",
    "users_activities_in_home_page = np.random.choice(100, 1000)\n",
    "users_activities_in_srp = np.random.choice(100, 200)"
   ]
  },
  {
   "cell_type": "code",
   "execution_count": 4,
   "metadata": {},
   "outputs": [],
   "source": [
    "def ctp(funnel_1_log, funnel_2_log):\n",
    "    \"\"\"\n",
    "    calculate the Click Through Probability between funnel 1 and funnel 2.\n",
    "    CTP should be 0 <= CTP <= 1\n",
    "    Args: \n",
    "    ----\n",
    "    funnel_1_log: list of int (user id)\n",
    "    funnel_2_log: list of int (user id)\n",
    "    \n",
    "    Output:\n",
    "    ----\n",
    "    ctp: float\n",
    "    \"\"\"\n",
    "    unique_funnel_1_users = np.unique(funnel_1_log)\n",
    "    unique_funnel_2_users = np.unique(funnel_2_log)\n",
    "    \n",
    "    user_intersection = set(unique_funnel_1_users).intersection(\n",
    "        set(unique_funnel_2_users)\n",
    "    )\n",
    "        \n",
    "    \n",
    "    return len(user_intersection) / float(unique_funnel_1_users.shape[0])\n",
    "\n",
    "def ctr(funnel_1_log, funnel_2_log):\n",
    "    \"\"\"\n",
    "    calculate the Click Through Rate between funnel 1 and funnel 2. \n",
    "    CTR may be more than 1, the only constraint that it has is\n",
    "    CTR >= 0\n",
    "    Args: \n",
    "    ----\n",
    "    funnel_1_log: list of int (user id)\n",
    "    funnel_2_log: list of int (user id)\n",
    "    \n",
    "    Output:\n",
    "    ----\n",
    "    ctr: float\n",
    "    \"\"\"    \n",
    "    return funnel_2_log.shape[0] / funnel_1_log.shape[0]"
   ]
  },
  {
   "cell_type": "code",
   "execution_count": 5,
   "metadata": {},
   "outputs": [],
   "source": [
    "ctp_current = ctp(users_activities_in_home_page, users_activities_in_srp)\n",
    "ctr_current = ctr(users_activities_in_home_page, users_activities_in_srp)\n",
    "# test if your functions has been correctly implemented\n",
    "assert np.isclose(ctp_current, 0.92)\n",
    "assert np.isclose(ctr_current, 0.2)"
   ]
  },
  {
   "cell_type": "markdown",
   "metadata": {},
   "source": [
    "We are only interested in CTP right now. So now the question is given this number what is our probability to get this number? assuming that our users will uniformly come to home page 1000 / day, 200 of them will continue to SRP, while our users is stagnant in 100 (no new users in this questions)."
   ]
  },
  {
   "cell_type": "code",
   "execution_count": 6,
   "metadata": {},
   "outputs": [],
   "source": [
    "def simulate_ctp(n_activities_home_page, n_activities_search_page, n_users=100, n_simulations=500):\n",
    "    ctps = []\n",
    "    for s in range(n_simulations):\n",
    "        users_activities_in_home_page = np.random.choice(n_users, n_activities_home_page)\n",
    "        users_activities_in_srp = np.random.choice(n_users, n_activities_search_page)\n",
    "        \n",
    "        ctps.append(ctp(users_activities_in_home_page, users_activities_in_srp))\n",
    "    return np.array(ctps)"
   ]
  },
  {
   "cell_type": "code",
   "execution_count": 7,
   "metadata": {},
   "outputs": [],
   "source": [
    "# DO NOT CHANGE THIS\n",
    "ctps = simulate_ctp(1000, 200)\n",
    "\n",
    "assert len(ctps) == 500"
   ]
  },
  {
   "cell_type": "code",
   "execution_count": 8,
   "metadata": {},
   "outputs": [],
   "source": [
    "mean_ctp = np.mean(ctps)\n",
    "std_ctp = np.std(ctps)\n",
    "lower_1_sigma_ctp, upper_1_sigma_ctp = mean_ctp - std_ctp, mean_ctp + std_ctp"
   ]
  },
  {
   "cell_type": "code",
   "execution_count": 9,
   "metadata": {
    "scrolled": false
   },
   "outputs": [
    {
     "data": {
      "image/png": "[encoded data removed]",
      "text/plain": [
       "<Figure size 1440x504 with 2 Axes>"
      ]
     },
     "metadata": {
      "needs_background": "light"
     },
     "output_type": "display_data"
    }
   ],
   "source": [
    "bins = np.linspace(0.7, 1, 20)\n",
    "ctp_bins = np.digitize(ctps, bins)\n",
    "ctp_bin_indexes, ctp_bin_counts = np.unique(ctp_bins, return_counts=True)\n",
    "\n",
    "ctp_current_bin = np.digitize(ctp_current, bins)\n",
    "\n",
    "\n",
    "draw_ctp_happening_binned(\n",
    "    ctp_current, \n",
    "    bins, \n",
    "    ctp_bin_indexes, \n",
    "    ctp_bin_counts, \n",
    "    ctp_current_bin\n",
    ")"
   ]
  },
  {
   "cell_type": "markdown",
   "metadata": {},
   "source": [
    "More simulations!"
   ]
  },
  {
   "cell_type": "code",
   "execution_count": 32,
   "metadata": {},
   "outputs": [
    {
     "data": {
      "application/vnd.plotly.v1+json": {
       "config": {
        "linkText": "Export to plot.ly",
        "plotlyServerURL": "https://plot.ly",
        "showLink": false
       },
       "data": [
        {
         "alignmentgroup": "True",
         "hovertemplate": "sim_index=0.0<br>ctp_bin_labels=%{x}<br>ctp_bin_counts=%{y}<extra></extra>",
         "legendgroup": "",
         "marker": {
          "color": "#636efa"
         },
         "name": "",
         "offsetgroup": "",
         "orientation": "v",
         "showlegend": false,
         "textposition": "auto",
         "type": "bar",
         "uid": "88f2a403-6a33-4c51-899f-ef8074cccb6e",
         "x": [
          0.8263157894736842,
          0.8421052631578947,
          0.8578947368421053,
          0.8736842105263158,
          0.8894736842105263,
          0.9052631578947369,
          0.9210526315789473
         ],
         "xaxis": "x",
         "y": [
          2,
          1,
          1,
          7,
          5,
          3,
          1
         ],
         "yaxis": "y"
        }
       ],
       "frames": [
        {
         "data": [
          {
           "alignmentgroup": "True",
           "hovertemplate": "sim_index=0.0<br>ctp_bin_labels=%{x}<br>ctp_bin_counts=%{y}<extra></extra>",
           "legendgroup": "",
           "marker": {
            "color": "#636efa"
           },
           "name": "",
           "offsetgroup": "",
           "orientation": "v",
           "showlegend": false,
           "textposition": "auto",
           "type": "bar",
           "x": [
            0.8263157894736842,
            0.8421052631578947,
            0.8578947368421053,
            0.8736842105263158,
            0.8894736842105263,
            0.9052631578947369,
            0.9210526315789473
           ],
           "xaxis": "x",
           "y": [
            2,
            1,
            1,
            7,
            5,
            3,
            1
           ],
           "yaxis": "y"
          }
         ],
         "name": "0.0"
        },
        {
         "data": [
          {
           "alignmentgroup": "True",
           "hovertemplate": "sim_index=1.0<br>ctp_bin_labels=%{x}<br>ctp_bin_counts=%{y}<extra></extra>",
           "legendgroup": "",
           "marker": {
            "color": "#636efa"
           },
           "name": "",
           "offsetgroup": "",
           "orientation": "v",
           "showlegend": false,
           "textposition": "auto",
           "type": "bar",
           "x": [
            0.8105263157894737,
            0.8263157894736842,
            0.8421052631578947,
            0.8578947368421053,
            0.8736842105263158,
            0.8894736842105263,
            0.9052631578947369,
            0.9210526315789473,
            0.9368421052631579
           ],
           "xaxis": "x",
           "y": [
            2,
            6,
            5,
            6,
            9,
            5,
            9,
            6,
            2
           ],
           "yaxis": "y"
          }
         ],
         "name": "1.0"
        },
        {
         "data": [
          {
           "alignmentgroup": "True",
           "hovertemplate": "sim_index=2.0<br>ctp_bin_labels=%{x}<br>ctp_bin_counts=%{y}<extra></extra>",
           "legendgroup": "",
           "marker": {
            "color": "#636efa"
           },
           "name": "",
           "offsetgroup": "",
           "orientation": "v",
           "showlegend": false,
           "textposition": "auto",
           "type": "bar",
           "x": [
            0.8105263157894737,
            0.8263157894736842,
            0.8421052631578947,
            0.8578947368421053,
            0.8736842105263158,
            0.8894736842105263,
            0.9052631578947369,
            0.9210526315789473
           ],
           "xaxis": "x",
           "y": [
            3,
            7,
            12,
            13,
            29,
            13,
            18,
            5
           ],
           "yaxis": "y"
          }
         ],
         "name": "2.0"
        },
        {
         "data": [
          {
           "alignmentgroup": "True",
           "hovertemplate": "sim_index=3.0<br>ctp_bin_labels=%{x}<br>ctp_bin_counts=%{y}<extra></extra>",
           "legendgroup": "",
           "marker": {
            "color": "#636efa"
           },
           "name": "",
           "offsetgroup": "",
           "orientation": "v",
           "showlegend": false,
           "textposition": "auto",
           "type": "bar",
           "x": [
            0.7947368421052632,
            0.8105263157894737,
            0.8263157894736842,
            0.8421052631578947,
            0.8578947368421053,
            0.8736842105263158,
            0.8894736842105263,
            0.9052631578947369,
            0.9210526315789473,
            0.9368421052631579,
            0.9526315789473685
           ],
           "xaxis": "x",
           "y": [
            2,
            7,
            5,
            41,
            34,
            74,
            28,
            50,
            6,
            2,
            1
           ],
           "yaxis": "y"
          }
         ],
         "name": "3.0"
        },
        {
         "data": [
          {
           "alignmentgroup": "True",
           "hovertemplate": "sim_index=4.0<br>ctp_bin_labels=%{x}<br>ctp_bin_counts=%{y}<extra></extra>",
           "legendgroup": "",
           "marker": {
            "color": "#636efa"
           },
           "name": "",
           "offsetgroup": "",
           "orientation": "v",
           "showlegend": false,
           "textposition": "auto",
           "type": "bar",
           "x": [
            0.7789473684210526,
            0.7947368421052632,
            0.8105263157894737,
            0.8263157894736842,
            0.8421052631578947,
            0.8578947368421053,
            0.8736842105263158,
            0.8894736842105263,
            0.9052631578947369,
            0.9210526315789473,
            0.9368421052631579,
            0.9526315789473685
           ],
           "xaxis": "x",
           "y": [
            1,
            2,
            20,
            17,
            66,
            61,
            128,
            68,
            95,
            30,
            8,
            4
           ],
           "yaxis": "y"
          }
         ],
         "name": "4.0"
        },
        {
         "data": [
          {
           "alignmentgroup": "True",
           "hovertemplate": "sim_index=5.0<br>ctp_bin_labels=%{x}<br>ctp_bin_counts=%{y}<extra></extra>",
           "legendgroup": "",
           "marker": {
            "color": "#636efa"
           },
           "name": "",
           "offsetgroup": "",
           "orientation": "v",
           "showlegend": false,
           "textposition": "auto",
           "type": "bar",
           "x": [
            0.7947368421052632,
            0.8105263157894737,
            0.8263157894736842,
            0.8421052631578947,
            0.8578947368421053,
            0.8736842105263158,
            0.8894736842105263,
            0.9052631578947369,
            0.9210526315789473,
            0.9368421052631579,
            0.9526315789473685
           ],
           "xaxis": "x",
           "y": [
            8,
            33,
            46,
            138,
            125,
            264,
            133,
            172,
            64,
            10,
            7
           ],
           "yaxis": "y"
          }
         ],
         "name": "5.0"
        },
        {
         "data": [
          {
           "alignmentgroup": "True",
           "hovertemplate": "sim_index=6.0<br>ctp_bin_labels=%{x}<br>ctp_bin_counts=%{y}<extra></extra>",
           "legendgroup": "",
           "marker": {
            "color": "#636efa"
           },
           "name": "",
           "offsetgroup": "",
           "orientation": "v",
           "showlegend": false,
           "textposition": "auto",
           "type": "bar",
           "x": [
            0.7947368421052632,
            0.8105263157894737,
            0.8263157894736842,
            0.8421052631578947,
            0.8578947368421053,
            0.8736842105263158,
            0.8894736842105263,
            0.9052631578947369,
            0.9210526315789473,
            0.9368421052631579,
            0.9526315789473685
           ],
           "xaxis": "x",
           "y": [
            7,
            54,
            67,
            302,
            211,
            552,
            259,
            379,
            143,
            18,
            8
           ],
           "yaxis": "y"
          }
         ],
         "name": "6.0"
        },
        {
         "data": [
          {
           "alignmentgroup": "True",
           "hovertemplate": "sim_index=7.0<br>ctp_bin_labels=%{x}<br>ctp_bin_counts=%{y}<extra></extra>",
           "legendgroup": "",
           "marker": {
            "color": "#636efa"
           },
           "name": "",
           "offsetgroup": "",
           "orientation": "v",
           "showlegend": false,
           "textposition": "auto",
           "type": "bar",
           "x": [
            0.763157894736842,
            0.7789473684210526,
            0.7947368421052632,
            0.8105263157894737,
            0.8263157894736842,
            0.8421052631578947,
            0.8578947368421053,
            0.8736842105263158,
            0.8894736842105263,
            0.9052631578947369,
            0.9210526315789473,
            0.9368421052631579,
            0.9526315789473685,
            0.968421052631579
           ],
           "xaxis": "x",
           "y": [
            2,
            2,
            19,
            92,
            109,
            509,
            331,
            795,
            395,
            514,
            186,
            30,
            15,
            1
           ],
           "yaxis": "y"
          }
         ],
         "name": "7.0"
        }
       ],
       "layout": {
        "barmode": "relative",
        "grid": {
         "xaxes": [
          "x"
         ],
         "xgap": 0.1,
         "xside": "bottom",
         "yaxes": [
          "y"
         ],
         "ygap": 0.1,
         "yside": "left"
        },
        "height": 600,
        "legend": {
         "tracegroupgap": 0
        },
        "margin": {
         "t": 60
        },
        "sliders": [
         {
          "active": 0,
          "currentvalue": {
           "prefix": "sim_index="
          },
          "len": 0.9,
          "pad": {
           "b": 10,
           "t": 60
          },
          "steps": [
           {
            "args": [
             [
              "0.0"
             ],
             {
              "frame": {
               "duration": 0,
               "redraw": true
              },
              "fromcurrent": true,
              "mode": "immediate",
              "transition": {
               "duration": 0,
               "easing": "linear"
              }
             }
            ],
            "label": "0.0",
            "method": "animate"
           },
           {
            "args": [
             [
              "1.0"
             ],
             {
              "frame": {
               "duration": 0,
               "redraw": true
              },
              "fromcurrent": true,
              "mode": "immediate",
              "transition": {
               "duration": 0,
               "easing": "linear"
              }
             }
            ],
            "label": "1.0",
            "method": "animate"
           },
           {
            "args": [
             [
              "2.0"
             ],
             {
              "frame": {
               "duration": 0,
               "redraw": true
              },
              "fromcurrent": true,
              "mode": "immediate",
              "transition": {
               "duration": 0,
               "easing": "linear"
              }
             }
            ],
            "label": "2.0",
            "method": "animate"
           },
           {
            "args": [
             [
              "3.0"
             ],
             {
              "frame": {
               "duration": 0,
               "redraw": true
              },
              "fromcurrent": true,
              "mode": "immediate",
              "transition": {
               "duration": 0,
               "easing": "linear"
              }
             }
            ],
            "label": "3.0",
            "method": "animate"
           },
           {
            "args": [
             [
              "4.0"
             ],
             {
              "frame": {
               "duration": 0,
               "redraw": true
              },
              "fromcurrent": true,
              "mode": "immediate",
              "transition": {
               "duration": 0,
               "easing": "linear"
              }
             }
            ],
            "label": "4.0",
            "method": "animate"
           },
           {
            "args": [
             [
              "5.0"
             ],
             {
              "frame": {
               "duration": 0,
               "redraw": true
              },
              "fromcurrent": true,
              "mode": "immediate",
              "transition": {
               "duration": 0,
               "easing": "linear"
              }
             }
            ],
            "label": "5.0",
            "method": "animate"
           },
           {
            "args": [
             [
              "6.0"
             ],
             {
              "frame": {
               "duration": 0,
               "redraw": true
              },
              "fromcurrent": true,
              "mode": "immediate",
              "transition": {
               "duration": 0,
               "easing": "linear"
              }
             }
            ],
            "label": "6.0",
            "method": "animate"
           },
           {
            "args": [
             [
              "7.0"
             ],
             {
              "frame": {
               "duration": 0,
               "redraw": true
              },
              "fromcurrent": true,
              "mode": "immediate",
              "transition": {
               "duration": 0,
               "easing": "linear"
              }
             }
            ],
            "label": "7.0",
            "method": "animate"
           }
          ],
          "x": 0.1,
          "xanchor": "left",
          "y": 0,
          "yanchor": "top"
         }
        ],
        "template": {
         "data": {
          "bar": [
           {
            "marker": {
             "line": {
              "color": "#E5ECF6",
              "width": 0.5
             }
            },
            "type": "bar"
           }
          ],
          "barpolar": [
           {
            "marker": {
             "line": {
              "color": "#E5ECF6",
              "width": 0.5
             }
            },
            "type": "barpolar"
           }
          ],
          "carpet": [
           {
            "aaxis": {
             "endlinecolor": "#2a3f5f",
             "gridcolor": "white",
             "linecolor": "white",
             "minorgridcolor": "white",
             "startlinecolor": "#2a3f5f"
            },
            "baxis": {
             "endlinecolor": "#2a3f5f",
             "gridcolor": "white",
             "linecolor": "white",
             "minorgridcolor": "white",
             "startlinecolor": "#2a3f5f"
            },
            "type": "carpet"
           }
          ],
          "choropleth": [
           {
            "colorbar": {
             "outlinewidth": 0,
             "ticks": ""
            },
            "type": "choropleth"
           }
          ],
          "contour": [
           {
            "autocolorscale": true,
            "colorbar": {
             "outlinewidth": 0,
             "ticks": ""
            },
            "type": "contour"
           }
          ],
          "contourcarpet": [
           {
            "colorbar": {
             "outlinewidth": 0,
             "ticks": ""
            },
            "type": "contourcarpet"
           }
          ],
          "heatmap": [
           {
            "autocolorscale": true,
            "colorbar": {
             "outlinewidth": 0,
             "ticks": ""
            },
            "type": "heatmap"
           }
          ],
          "heatmapgl": [
           {
            "colorbar": {
             "outlinewidth": 0,
             "ticks": ""
            },
            "type": "heatmapgl"
           }
          ],
          "histogram": [
           {
            "marker": {
             "colorbar": {
              "outlinewidth": 0,
              "ticks": ""
             }
            },
            "type": "histogram"
           }
          ],
          "histogram2d": [
           {
            "autocolorscale": true,
            "colorbar": {
             "outlinewidth": 0,
             "ticks": ""
            },
            "type": "histogram2d"
           }
          ],
          "histogram2dcontour": [
           {
            "autocolorscale": true,
            "colorbar": {
             "outlinewidth": 0,
             "ticks": ""
            },
            "type": "histogram2dcontour"
           }
          ],
          "mesh3d": [
           {
            "colorbar": {
             "outlinewidth": 0,
             "ticks": ""
            },
            "type": "mesh3d"
           }
          ],
          "parcoords": [
           {
            "line": {
             "colorbar": {
              "outlinewidth": 0,
              "ticks": ""
             }
            },
            "type": "parcoords"
           }
          ],
          "scatter": [
           {
            "marker": {
             "colorbar": {
              "outlinewidth": 0,
              "ticks": ""
             }
            },
            "type": "scatter"
           }
          ],
          "scatter3d": [
           {
            "marker": {
             "colorbar": {
              "outlinewidth": 0,
              "ticks": ""
             }
            },
            "type": "scatter3d"
           }
          ],
          "scattercarpet": [
           {
            "marker": {
             "colorbar": {
              "outlinewidth": 0,
              "ticks": ""
             }
            },
            "type": "scattercarpet"
           }
          ],
          "scattergeo": [
           {
            "marker": {
             "colorbar": {
              "outlinewidth": 0,
              "ticks": ""
             }
            },
            "type": "scattergeo"
           }
          ],
          "scattergl": [
           {
            "marker": {
             "colorbar": {
              "outlinewidth": 0,
              "ticks": ""
             }
            },
            "type": "scattergl"
           }
          ],
          "scattermapbox": [
           {
            "marker": {
             "colorbar": {
              "outlinewidth": 0,
              "ticks": ""
             }
            },
            "type": "scattermapbox"
           }
          ],
          "scatterpolar": [
           {
            "marker": {
             "colorbar": {
              "outlinewidth": 0,
              "ticks": ""
             }
            },
            "type": "scatterpolar"
           }
          ],
          "scatterpolargl": [
           {
            "marker": {
             "colorbar": {
              "outlinewidth": 0,
              "ticks": ""
             }
            },
            "type": "scatterpolargl"
           }
          ],
          "scatterternary": [
           {
            "marker": {
             "colorbar": {
              "outlinewidth": 0,
              "ticks": ""
             }
            },
            "type": "scatterternary"
           }
          ],
          "surface": [
           {
            "colorbar": {
             "outlinewidth": 0,
             "ticks": ""
            },
            "type": "surface"
           }
          ],
          "table": [
           {
            "cells": {
             "fill": {
              "color": "#EBF0F8"
             },
             "line": {
              "color": "white"
             }
            },
            "header": {
             "fill": {
              "color": "#C8D4E3"
             },
             "line": {
              "color": "white"
             }
            },
            "type": "table"
           }
          ]
         },
         "layout": {
          "annotationdefaults": {
           "arrowcolor": "#506784",
           "arrowhead": 0,
           "arrowwidth": 1
          },
          "colorscale": {
           "diverging": [
            [
             0,
             "#8e0152"
            ],
            [
             0.1,
             "#c51b7d"
            ],
            [
             0.2,
             "#de77ae"
            ],
            [
             0.3,
             "#f1b6da"
            ],
            [
             0.4,
             "#fde0ef"
            ],
            [
             0.5,
             "#f7f7f7"
            ],
            [
             0.6,
             "#e6f5d0"
            ],
            [
             0.7,
             "#b8e186"
            ],
            [
             0.8,
             "#7fbc41"
            ],
            [
             0.9,
             "#4d9221"
            ],
            [
             1,
             "#276419"
            ]
           ],
           "sequential": [
            [
             0,
             "#0508b8"
            ],
            [
             0.0893854748603352,
             "#1910d8"
            ],
            [
             0.1787709497206704,
             "#3c19f0"
            ],
            [
             0.2681564245810056,
             "#6b1cfb"
            ],
            [
             0.3575418994413408,
             "#981cfd"
            ],
            [
             0.44692737430167595,
             "#bf1cfd"
            ],
            [
             0.5363128491620112,
             "#dd2bfd"
            ],
            [
             0.6256983240223464,
             "#f246fe"
            ],
            [
             0.7150837988826816,
             "#fc67fd"
            ],
            [
             0.8044692737430168,
             "#fe88fc"
            ],
            [
             0.8938547486033519,
             "#fea5fd"
            ],
            [
             0.9832402234636871,
             "#febefe"
            ],
            [
             1,
             "#fec3fe"
            ]
           ],
           "sequentialminus": [
            [
             0,
             "#0508b8"
            ],
            [
             0.0893854748603352,
             "#1910d8"
            ],
            [
             0.1787709497206704,
             "#3c19f0"
            ],
            [
             0.2681564245810056,
             "#6b1cfb"
            ],
            [
             0.3575418994413408,
             "#981cfd"
            ],
            [
             0.44692737430167595,
             "#bf1cfd"
            ],
            [
             0.5363128491620112,
             "#dd2bfd"
            ],
            [
             0.6256983240223464,
             "#f246fe"
            ],
            [
             0.7150837988826816,
             "#fc67fd"
            ],
            [
             0.8044692737430168,
             "#fe88fc"
            ],
            [
             0.8938547486033519,
             "#fea5fd"
            ],
            [
             0.9832402234636871,
             "#febefe"
            ],
            [
             1,
             "#fec3fe"
            ]
           ]
          },
          "colorway": [
           "#636efa",
           "#EF553B",
           "#00cc96",
           "#ab63fa",
           "#19d3f3",
           "#e763fa",
           "#FECB52",
           "#FFA15A",
           "#FF6692",
           "#B6E880"
          ],
          "font": {
           "color": "#2a3f5f"
          },
          "geo": {
           "bgcolor": "white",
           "lakecolor": "white",
           "landcolor": "#E5ECF6",
           "showlakes": true,
           "showland": true,
           "subunitcolor": "white"
          },
          "hovermode": "closest",
          "mapbox": {
           "style": "light"
          },
          "paper_bgcolor": "white",
          "plot_bgcolor": "#E5ECF6",
          "polar": {
           "angularaxis": {
            "gridcolor": "white",
            "linecolor": "white",
            "ticks": ""
           },
           "bgcolor": "#E5ECF6",
           "radialaxis": {
            "gridcolor": "white",
            "linecolor": "white",
            "ticks": ""
           }
          },
          "scene": {
           "xaxis": {
            "backgroundcolor": "#E5ECF6",
            "gridcolor": "white",
            "gridwidth": 2,
            "linecolor": "white",
            "showbackground": true,
            "ticks": "",
            "zerolinecolor": "white"
           },
           "yaxis": {
            "backgroundcolor": "#E5ECF6",
            "gridcolor": "white",
            "gridwidth": 2,
            "linecolor": "white",
            "showbackground": true,
            "ticks": "",
            "zerolinecolor": "white"
           },
           "zaxis": {
            "backgroundcolor": "#E5ECF6",
            "gridcolor": "white",
            "gridwidth": 2,
            "linecolor": "white",
            "showbackground": true,
            "ticks": "",
            "zerolinecolor": "white"
           }
          },
          "shapedefaults": {
           "fillcolor": "#506784",
           "line": {
            "width": 0
           },
           "opacity": 0.4
          },
          "ternary": {
           "aaxis": {
            "gridcolor": "white",
            "linecolor": "white",
            "ticks": ""
           },
           "baxis": {
            "gridcolor": "white",
            "linecolor": "white",
            "ticks": ""
           },
           "bgcolor": "#E5ECF6",
           "caxis": {
            "gridcolor": "white",
            "linecolor": "white",
            "ticks": ""
           }
          },
          "title": {
           "x": 0.05
          },
          "xaxis": {
           "automargin": true,
           "gridcolor": "white",
           "linecolor": "white",
           "ticks": "",
           "zerolinecolor": "white",
           "zerolinewidth": 2
          },
          "yaxis": {
           "automargin": true,
           "gridcolor": "white",
           "linecolor": "white",
           "ticks": "",
           "zerolinecolor": "white",
           "zerolinewidth": 2
          }
         }
        },
        "updatemenus": [
         {
          "buttons": [
           {
            "args": [
             null,
             {
              "frame": {
               "duration": 500,
               "redraw": true
              },
              "fromcurrent": true,
              "mode": "immediate",
              "transition": {
               "duration": 500,
               "easing": "linear"
              }
             }
            ],
            "label": "&#9654;",
            "method": "animate"
           },
           {
            "args": [
             [
              null
             ],
             {
              "frame": {
               "duration": 0,
               "redraw": true
              },
              "fromcurrent": true,
              "mode": "immediate",
              "transition": {
               "duration": 0,
               "easing": "linear"
              }
             }
            ],
            "label": "&#9724;",
            "method": "animate"
           }
          ],
          "direction": "left",
          "pad": {
           "r": 10,
           "t": 70
          },
          "showactive": false,
          "type": "buttons",
          "x": 0.1,
          "xanchor": "right",
          "y": 0,
          "yanchor": "top"
         }
        ],
        "xaxis": {
         "title": {
          "text": "ctp_bin_labels"
         }
        },
        "yaxis": {
         "range": [
          0,
          1300
         ],
         "title": {
          "text": "ctp_bin_counts"
         }
        }
       }
      },
      "text/html": [
       "<div id=\"4606db30-c0b1-480e-8bae-3748c0c57262\" style=\"height: 600px; width: 100%;\" class=\"plotly-graph-div\"></div><script type=\"text/javascript\">require([\"plotly\"], function(Plotly) { window.PLOTLYENV=window.PLOTLYENV || {};window.PLOTLYENV.BASE_URL=\"https://plot.ly\";\n",
       "    if (document.getElementById(\"4606db30-c0b1-480e-8bae-3748c0c57262\")) {\n",
       "        Plotly.plot(\n",
       "            '4606db30-c0b1-480e-8bae-3748c0c57262',\n",
       "            [{\"showlegend\": false, \"alignmentgroup\": \"True\", \"yaxis\": \"y\", \"orientation\": \"v\", \"xaxis\": \"x\", \"hovertemplate\": \"sim_index=0.0<br>ctp_bin_labels=%{x}<br>ctp_bin_counts=%{y}<extra></extra>\", \"marker\": {\"color\": \"#636efa\"}, \"type\": \"bar\", \"x\": [0.8263157894736842, 0.8421052631578947, 0.8578947368421053, 0.8736842105263158, 0.8894736842105263, 0.9052631578947369, 0.9210526315789473], \"y\": [2.0, 1.0, 1.0, 7.0, 5.0, 3.0, 1.0], \"uid\": \"88f2a403-6a33-4c51-899f-ef8074cccb6e\", \"textposition\": \"auto\", \"name\": \"\", \"offsetgroup\": \"\", \"legendgroup\": \"\"}],\n",
       "            {\"updatemenus\": [{\"direction\": \"left\", \"buttons\": [{\"method\": \"animate\", \"args\": [null, {\"frame\": {\"redraw\": true, \"duration\": 500}, \"transition\": {\"easing\": \"linear\", \"duration\": 500}, \"fromcurrent\": true, \"mode\": \"immediate\"}], \"label\": \"&#9654;\"}, {\"method\": \"animate\", \"args\": [[null], {\"frame\": {\"redraw\": true, \"duration\": 0}, \"transition\": {\"easing\": \"linear\", \"duration\": 0}, \"fromcurrent\": true, \"mode\": \"immediate\"}], \"label\": \"&#9724;\"}], \"yanchor\": \"top\", \"showactive\": false, \"pad\": {\"r\": 10, \"t\": 70}, \"xanchor\": \"right\", \"type\": \"buttons\", \"x\": 0.1, \"y\": 0}], \"legend\": {\"tracegroupgap\": 0}, \"height\": 600, \"xaxis\": {\"title\": {\"text\": \"ctp_bin_labels\"}}, \"margin\": {\"t\": 60}, \"barmode\": \"relative\", \"grid\": {\"xgap\": 0.1, \"xside\": \"bottom\", \"yaxes\": [\"y\"], \"yside\": \"left\", \"ygap\": 0.1, \"xaxes\": [\"x\"]}, \"yaxis\": {\"title\": {\"text\": \"ctp_bin_counts\"}, \"range\": [0, 1300]}, \"sliders\": [{\"steps\": [{\"method\": \"animate\", \"args\": [[\"0.0\"], {\"frame\": {\"redraw\": true, \"duration\": 0}, \"transition\": {\"easing\": \"linear\", \"duration\": 0}, \"fromcurrent\": true, \"mode\": \"immediate\"}], \"label\": \"0.0\"}, {\"method\": \"animate\", \"args\": [[\"1.0\"], {\"frame\": {\"redraw\": true, \"duration\": 0}, \"transition\": {\"easing\": \"linear\", \"duration\": 0}, \"fromcurrent\": true, \"mode\": \"immediate\"}], \"label\": \"1.0\"}, {\"method\": \"animate\", \"args\": [[\"2.0\"], {\"frame\": {\"redraw\": true, \"duration\": 0}, \"transition\": {\"easing\": \"linear\", \"duration\": 0}, \"fromcurrent\": true, \"mode\": \"immediate\"}], \"label\": \"2.0\"}, {\"method\": \"animate\", \"args\": [[\"3.0\"], {\"frame\": {\"redraw\": true, \"duration\": 0}, \"transition\": {\"easing\": \"linear\", \"duration\": 0}, \"fromcurrent\": true, \"mode\": \"immediate\"}], \"label\": \"3.0\"}, {\"method\": \"animate\", \"args\": [[\"4.0\"], {\"frame\": {\"redraw\": true, \"duration\": 0}, \"transition\": {\"easing\": \"linear\", \"duration\": 0}, \"fromcurrent\": true, \"mode\": \"immediate\"}], \"label\": \"4.0\"}, {\"method\": \"animate\", \"args\": [[\"5.0\"], {\"frame\": {\"redraw\": true, \"duration\": 0}, \"transition\": {\"easing\": \"linear\", \"duration\": 0}, \"fromcurrent\": true, \"mode\": \"immediate\"}], \"label\": \"5.0\"}, {\"method\": \"animate\", \"args\": [[\"6.0\"], {\"frame\": {\"redraw\": true, \"duration\": 0}, \"transition\": {\"easing\": \"linear\", \"duration\": 0}, \"fromcurrent\": true, \"mode\": \"immediate\"}], \"label\": \"6.0\"}, {\"method\": \"animate\", \"args\": [[\"7.0\"], {\"frame\": {\"redraw\": true, \"duration\": 0}, \"transition\": {\"easing\": \"linear\", \"duration\": 0}, \"fromcurrent\": true, \"mode\": \"immediate\"}], \"label\": \"7.0\"}], \"yanchor\": \"top\", \"active\": 0, \"len\": 0.9, \"pad\": {\"b\": 10, \"t\": 60}, \"xanchor\": \"left\", \"x\": 0.1, \"y\": 0, \"currentvalue\": {\"prefix\": \"sim_index=\"}}], \"template\": {\"data\": {\"scatterpolargl\": [{\"marker\": {\"colorbar\": {\"ticks\": \"\", \"outlinewidth\": 0}}, \"type\": \"scatterpolargl\"}], \"bar\": [{\"marker\": {\"line\": {\"color\": \"#E5ECF6\", \"width\": 0.5}}, \"type\": \"bar\"}], \"choropleth\": [{\"type\": \"choropleth\", \"colorbar\": {\"ticks\": \"\", \"outlinewidth\": 0}}], \"carpet\": [{\"type\": \"carpet\", \"baxis\": {\"linecolor\": \"white\", \"gridcolor\": \"white\", \"endlinecolor\": \"#2a3f5f\", \"startlinecolor\": \"#2a3f5f\", \"minorgridcolor\": \"white\"}, \"aaxis\": {\"linecolor\": \"white\", \"gridcolor\": \"white\", \"endlinecolor\": \"#2a3f5f\", \"startlinecolor\": \"#2a3f5f\", \"minorgridcolor\": \"white\"}}], \"histogram\": [{\"marker\": {\"colorbar\": {\"ticks\": \"\", \"outlinewidth\": 0}}, \"type\": \"histogram\"}], \"parcoords\": [{\"line\": {\"colorbar\": {\"ticks\": \"\", \"outlinewidth\": 0}}, \"type\": \"parcoords\"}], \"barpolar\": [{\"marker\": {\"line\": {\"color\": \"#E5ECF6\", \"width\": 0.5}}, \"type\": \"barpolar\"}], \"heatmapgl\": [{\"type\": \"heatmapgl\", \"colorbar\": {\"ticks\": \"\", \"outlinewidth\": 0}}], \"scatter3d\": [{\"marker\": {\"colorbar\": {\"ticks\": \"\", \"outlinewidth\": 0}}, \"type\": \"scatter3d\"}], \"scattermapbox\": [{\"marker\": {\"colorbar\": {\"ticks\": \"\", \"outlinewidth\": 0}}, \"type\": \"scattermapbox\"}], \"surface\": [{\"type\": \"surface\", \"colorbar\": {\"ticks\": \"\", \"outlinewidth\": 0}}], \"histogram2d\": [{\"type\": \"histogram2d\", \"autocolorscale\": true, \"colorbar\": {\"ticks\": \"\", \"outlinewidth\": 0}}], \"heatmap\": [{\"type\": \"heatmap\", \"autocolorscale\": true, \"colorbar\": {\"ticks\": \"\", \"outlinewidth\": 0}}], \"scatter\": [{\"marker\": {\"colorbar\": {\"ticks\": \"\", \"outlinewidth\": 0}}, \"type\": \"scatter\"}], \"scatterternary\": [{\"marker\": {\"colorbar\": {\"ticks\": \"\", \"outlinewidth\": 0}}, \"type\": \"scatterternary\"}], \"scattergeo\": [{\"marker\": {\"colorbar\": {\"ticks\": \"\", \"outlinewidth\": 0}}, \"type\": \"scattergeo\"}], \"histogram2dcontour\": [{\"type\": \"histogram2dcontour\", \"autocolorscale\": true, \"colorbar\": {\"ticks\": \"\", \"outlinewidth\": 0}}], \"mesh3d\": [{\"type\": \"mesh3d\", \"colorbar\": {\"ticks\": \"\", \"outlinewidth\": 0}}], \"scattercarpet\": [{\"marker\": {\"colorbar\": {\"ticks\": \"\", \"outlinewidth\": 0}}, \"type\": \"scattercarpet\"}], \"contourcarpet\": [{\"type\": \"contourcarpet\", \"colorbar\": {\"ticks\": \"\", \"outlinewidth\": 0}}], \"scatterpolar\": [{\"marker\": {\"colorbar\": {\"ticks\": \"\", \"outlinewidth\": 0}}, \"type\": \"scatterpolar\"}], \"table\": [{\"type\": \"table\", \"header\": {\"line\": {\"color\": \"white\"}, \"fill\": {\"color\": \"#C8D4E3\"}}, \"cells\": {\"line\": {\"color\": \"white\"}, \"fill\": {\"color\": \"#EBF0F8\"}}}], \"scattergl\": [{\"marker\": {\"colorbar\": {\"ticks\": \"\", \"outlinewidth\": 0}}, \"type\": \"scattergl\"}], \"contour\": [{\"type\": \"contour\", \"autocolorscale\": true, \"colorbar\": {\"ticks\": \"\", \"outlinewidth\": 0}}]}, \"layout\": {\"yaxis\": {\"linecolor\": \"white\", \"ticks\": \"\", \"gridcolor\": \"white\", \"zerolinecolor\": \"white\", \"zerolinewidth\": 2, \"automargin\": true}, \"scene\": {\"yaxis\": {\"linecolor\": \"white\", \"ticks\": \"\", \"gridcolor\": \"white\", \"zerolinecolor\": \"white\", \"backgroundcolor\": \"#E5ECF6\", \"showbackground\": true, \"gridwidth\": 2}, \"zaxis\": {\"linecolor\": \"white\", \"ticks\": \"\", \"gridcolor\": \"white\", \"zerolinecolor\": \"white\", \"backgroundcolor\": \"#E5ECF6\", \"showbackground\": true, \"gridwidth\": 2}, \"xaxis\": {\"linecolor\": \"white\", \"ticks\": \"\", \"gridcolor\": \"white\", \"zerolinecolor\": \"white\", \"backgroundcolor\": \"#E5ECF6\", \"showbackground\": true, \"gridwidth\": 2}}, \"xaxis\": {\"linecolor\": \"white\", \"ticks\": \"\", \"gridcolor\": \"white\", \"zerolinecolor\": \"white\", \"zerolinewidth\": 2, \"automargin\": true}, \"hovermode\": \"closest\", \"colorscale\": {\"sequential\": [[0.0, \"#0508b8\"], [0.0893854748603352, \"#1910d8\"], [0.1787709497206704, \"#3c19f0\"], [0.2681564245810056, \"#6b1cfb\"], [0.3575418994413408, \"#981cfd\"], [0.44692737430167595, \"#bf1cfd\"], [0.5363128491620112, \"#dd2bfd\"], [0.6256983240223464, \"#f246fe\"], [0.7150837988826816, \"#fc67fd\"], [0.8044692737430168, \"#fe88fc\"], [0.8938547486033519, \"#fea5fd\"], [0.9832402234636871, \"#febefe\"], [1.0, \"#fec3fe\"]], \"diverging\": [[0, \"#8e0152\"], [0.1, \"#c51b7d\"], [0.2, \"#de77ae\"], [0.3, \"#f1b6da\"], [0.4, \"#fde0ef\"], [0.5, \"#f7f7f7\"], [0.6, \"#e6f5d0\"], [0.7, \"#b8e186\"], [0.8, \"#7fbc41\"], [0.9, \"#4d9221\"], [1, \"#276419\"]], \"sequentialminus\": [[0.0, \"#0508b8\"], [0.0893854748603352, \"#1910d8\"], [0.1787709497206704, \"#3c19f0\"], [0.2681564245810056, \"#6b1cfb\"], [0.3575418994413408, \"#981cfd\"], [0.44692737430167595, \"#bf1cfd\"], [0.5363128491620112, \"#dd2bfd\"], [0.6256983240223464, \"#f246fe\"], [0.7150837988826816, \"#fc67fd\"], [0.8044692737430168, \"#fe88fc\"], [0.8938547486033519, \"#fea5fd\"], [0.9832402234636871, \"#febefe\"], [1.0, \"#fec3fe\"]]}, \"ternary\": {\"caxis\": {\"linecolor\": \"white\", \"ticks\": \"\", \"gridcolor\": \"white\"}, \"bgcolor\": \"#E5ECF6\", \"baxis\": {\"linecolor\": \"white\", \"ticks\": \"\", \"gridcolor\": \"white\"}, \"aaxis\": {\"linecolor\": \"white\", \"ticks\": \"\", \"gridcolor\": \"white\"}}, \"geo\": {\"lakecolor\": \"white\", \"subunitcolor\": \"white\", \"showlakes\": true, \"landcolor\": \"#E5ECF6\", \"showland\": true, \"bgcolor\": \"white\"}, \"annotationdefaults\": {\"arrowcolor\": \"#506784\", \"arrowhead\": 0, \"arrowwidth\": 1}, \"mapbox\": {\"style\": \"light\"}, \"font\": {\"color\": \"#2a3f5f\"}, \"title\": {\"x\": 0.05}, \"shapedefaults\": {\"fillcolor\": \"#506784\", \"opacity\": 0.4, \"line\": {\"width\": 0}}, \"plot_bgcolor\": \"#E5ECF6\", \"colorway\": [\"#636efa\", \"#EF553B\", \"#00cc96\", \"#ab63fa\", \"#19d3f3\", \"#e763fa\", \"#FECB52\", \"#FFA15A\", \"#FF6692\", \"#B6E880\"], \"polar\": {\"angularaxis\": {\"linecolor\": \"white\", \"ticks\": \"\", \"gridcolor\": \"white\"}, \"radialaxis\": {\"linecolor\": \"white\", \"ticks\": \"\", \"gridcolor\": \"white\"}, \"bgcolor\": \"#E5ECF6\"}, \"paper_bgcolor\": \"white\"}}},\n",
       "            {\"linkText\": \"Export to plot.ly\", \"showLink\": false, \"plotlyServerURL\": \"https://plot.ly\"}\n",
       "        ).then(function () {return Plotly.addFrames('4606db30-c0b1-480e-8bae-3748c0c57262',[{\"data\": [{\"showlegend\": false, \"alignmentgroup\": \"True\", \"yaxis\": \"y\", \"orientation\": \"v\", \"xaxis\": \"x\", \"hovertemplate\": \"sim_index=0.0<br>ctp_bin_labels=%{x}<br>ctp_bin_counts=%{y}<extra></extra>\", \"marker\": {\"color\": \"#636efa\"}, \"type\": \"bar\", \"x\": [0.8263157894736842, 0.8421052631578947, 0.8578947368421053, 0.8736842105263158, 0.8894736842105263, 0.9052631578947369, 0.9210526315789473], \"y\": [2.0, 1.0, 1.0, 7.0, 5.0, 3.0, 1.0], \"textposition\": \"auto\", \"name\": \"\", \"offsetgroup\": \"\", \"legendgroup\": \"\"}], \"name\": \"0.0\"}, {\"data\": [{\"showlegend\": false, \"alignmentgroup\": \"True\", \"yaxis\": \"y\", \"orientation\": \"v\", \"xaxis\": \"x\", \"hovertemplate\": \"sim_index=1.0<br>ctp_bin_labels=%{x}<br>ctp_bin_counts=%{y}<extra></extra>\", \"marker\": {\"color\": \"#636efa\"}, \"type\": \"bar\", \"x\": [0.8105263157894737, 0.8263157894736842, 0.8421052631578947, 0.8578947368421053, 0.8736842105263158, 0.8894736842105263, 0.9052631578947369, 0.9210526315789473, 0.9368421052631579], \"y\": [2.0, 6.0, 5.0, 6.0, 9.0, 5.0, 9.0, 6.0, 2.0], \"textposition\": \"auto\", \"name\": \"\", \"offsetgroup\": \"\", \"legendgroup\": \"\"}], \"name\": \"1.0\"}, {\"data\": [{\"showlegend\": false, \"alignmentgroup\": \"True\", \"yaxis\": \"y\", \"orientation\": \"v\", \"xaxis\": \"x\", \"hovertemplate\": \"sim_index=2.0<br>ctp_bin_labels=%{x}<br>ctp_bin_counts=%{y}<extra></extra>\", \"marker\": {\"color\": \"#636efa\"}, \"type\": \"bar\", \"x\": [0.8105263157894737, 0.8263157894736842, 0.8421052631578947, 0.8578947368421053, 0.8736842105263158, 0.8894736842105263, 0.9052631578947369, 0.9210526315789473], \"y\": [3.0, 7.0, 12.0, 13.0, 29.0, 13.0, 18.0, 5.0], \"textposition\": \"auto\", \"name\": \"\", \"offsetgroup\": \"\", \"legendgroup\": \"\"}], \"name\": \"2.0\"}, {\"data\": [{\"showlegend\": false, \"alignmentgroup\": \"True\", \"yaxis\": \"y\", \"orientation\": \"v\", \"xaxis\": \"x\", \"hovertemplate\": \"sim_index=3.0<br>ctp_bin_labels=%{x}<br>ctp_bin_counts=%{y}<extra></extra>\", \"marker\": {\"color\": \"#636efa\"}, \"type\": \"bar\", \"x\": [0.7947368421052632, 0.8105263157894737, 0.8263157894736842, 0.8421052631578947, 0.8578947368421053, 0.8736842105263158, 0.8894736842105263, 0.9052631578947369, 0.9210526315789473, 0.9368421052631579, 0.9526315789473685], \"y\": [2.0, 7.0, 5.0, 41.0, 34.0, 74.0, 28.0, 50.0, 6.0, 2.0, 1.0], \"textposition\": \"auto\", \"name\": \"\", \"offsetgroup\": \"\", \"legendgroup\": \"\"}], \"name\": \"3.0\"}, {\"data\": [{\"showlegend\": false, \"alignmentgroup\": \"True\", \"yaxis\": \"y\", \"orientation\": \"v\", \"xaxis\": \"x\", \"hovertemplate\": \"sim_index=4.0<br>ctp_bin_labels=%{x}<br>ctp_bin_counts=%{y}<extra></extra>\", \"marker\": {\"color\": \"#636efa\"}, \"type\": \"bar\", \"x\": [0.7789473684210526, 0.7947368421052632, 0.8105263157894737, 0.8263157894736842, 0.8421052631578947, 0.8578947368421053, 0.8736842105263158, 0.8894736842105263, 0.9052631578947369, 0.9210526315789473, 0.9368421052631579, 0.9526315789473685], \"y\": [1.0, 2.0, 20.0, 17.0, 66.0, 61.0, 128.0, 68.0, 95.0, 30.0, 8.0, 4.0], \"textposition\": \"auto\", \"name\": \"\", \"offsetgroup\": \"\", \"legendgroup\": \"\"}], \"name\": \"4.0\"}, {\"data\": [{\"showlegend\": false, \"alignmentgroup\": \"True\", \"yaxis\": \"y\", \"orientation\": \"v\", \"xaxis\": \"x\", \"hovertemplate\": \"sim_index=5.0<br>ctp_bin_labels=%{x}<br>ctp_bin_counts=%{y}<extra></extra>\", \"marker\": {\"color\": \"#636efa\"}, \"type\": \"bar\", \"x\": [0.7947368421052632, 0.8105263157894737, 0.8263157894736842, 0.8421052631578947, 0.8578947368421053, 0.8736842105263158, 0.8894736842105263, 0.9052631578947369, 0.9210526315789473, 0.9368421052631579, 0.9526315789473685], \"y\": [8.0, 33.0, 46.0, 138.0, 125.0, 264.0, 133.0, 172.0, 64.0, 10.0, 7.0], \"textposition\": \"auto\", \"name\": \"\", \"offsetgroup\": \"\", \"legendgroup\": \"\"}], \"name\": \"5.0\"}, {\"data\": [{\"showlegend\": false, \"alignmentgroup\": \"True\", \"yaxis\": \"y\", \"orientation\": \"v\", \"xaxis\": \"x\", \"hovertemplate\": \"sim_index=6.0<br>ctp_bin_labels=%{x}<br>ctp_bin_counts=%{y}<extra></extra>\", \"marker\": {\"color\": \"#636efa\"}, \"type\": \"bar\", \"x\": [0.7947368421052632, 0.8105263157894737, 0.8263157894736842, 0.8421052631578947, 0.8578947368421053, 0.8736842105263158, 0.8894736842105263, 0.9052631578947369, 0.9210526315789473, 0.9368421052631579, 0.9526315789473685], \"y\": [7.0, 54.0, 67.0, 302.0, 211.0, 552.0, 259.0, 379.0, 143.0, 18.0, 8.0], \"textposition\": \"auto\", \"name\": \"\", \"offsetgroup\": \"\", \"legendgroup\": \"\"}], \"name\": \"6.0\"}, {\"data\": [{\"showlegend\": false, \"alignmentgroup\": \"True\", \"yaxis\": \"y\", \"orientation\": \"v\", \"xaxis\": \"x\", \"hovertemplate\": \"sim_index=7.0<br>ctp_bin_labels=%{x}<br>ctp_bin_counts=%{y}<extra></extra>\", \"marker\": {\"color\": \"#636efa\"}, \"type\": \"bar\", \"x\": [0.763157894736842, 0.7789473684210526, 0.7947368421052632, 0.8105263157894737, 0.8263157894736842, 0.8421052631578947, 0.8578947368421053, 0.8736842105263158, 0.8894736842105263, 0.9052631578947369, 0.9210526315789473, 0.9368421052631579, 0.9526315789473685, 0.968421052631579], \"y\": [2.0, 2.0, 19.0, 92.0, 109.0, 509.0, 331.0, 795.0, 395.0, 514.0, 186.0, 30.0, 15.0, 1.0], \"textposition\": \"auto\", \"name\": \"\", \"offsetgroup\": \"\", \"legendgroup\": \"\"}], \"name\": \"7.0\"}]);})\n",
       "    }\n",
       "        });</script><script type=\"text/javascript\">window.addEventListener(\"resize\", function(){if (document.getElementById(\"4606db30-c0b1-480e-8bae-3748c0c57262\")) {window._Plotly.Plots.resize(document.getElementById(\"4606db30-c0b1-480e-8bae-3748c0c57262\"));};})</script>"
      ],
      "text/vnd.plotly.v1+html": [
       "<div id=\"4606db30-c0b1-480e-8bae-3748c0c57262\" style=\"height: 600px; width: 100%;\" class=\"plotly-graph-div\"></div><script type=\"text/javascript\">require([\"plotly\"], function(Plotly) { window.PLOTLYENV=window.PLOTLYENV || {};window.PLOTLYENV.BASE_URL=\"https://plot.ly\";\n",
       "    if (document.getElementById(\"4606db30-c0b1-480e-8bae-3748c0c57262\")) {\n",
       "        Plotly.plot(\n",
       "            '4606db30-c0b1-480e-8bae-3748c0c57262',\n",
       "            [{\"showlegend\": false, \"alignmentgroup\": \"True\", \"yaxis\": \"y\", \"orientation\": \"v\", \"xaxis\": \"x\", \"hovertemplate\": \"sim_index=0.0<br>ctp_bin_labels=%{x}<br>ctp_bin_counts=%{y}<extra></extra>\", \"marker\": {\"color\": \"#636efa\"}, \"type\": \"bar\", \"x\": [0.8263157894736842, 0.8421052631578947, 0.8578947368421053, 0.8736842105263158, 0.8894736842105263, 0.9052631578947369, 0.9210526315789473], \"y\": [2.0, 1.0, 1.0, 7.0, 5.0, 3.0, 1.0], \"uid\": \"88f2a403-6a33-4c51-899f-ef8074cccb6e\", \"textposition\": \"auto\", \"name\": \"\", \"offsetgroup\": \"\", \"legendgroup\": \"\"}],\n",
       "            {\"updatemenus\": [{\"direction\": \"left\", \"buttons\": [{\"method\": \"animate\", \"args\": [null, {\"frame\": {\"redraw\": true, \"duration\": 500}, \"transition\": {\"easing\": \"linear\", \"duration\": 500}, \"fromcurrent\": true, \"mode\": \"immediate\"}], \"label\": \"&#9654;\"}, {\"method\": \"animate\", \"args\": [[null], {\"frame\": {\"redraw\": true, \"duration\": 0}, \"transition\": {\"easing\": \"linear\", \"duration\": 0}, \"fromcurrent\": true, \"mode\": \"immediate\"}], \"label\": \"&#9724;\"}], \"yanchor\": \"top\", \"showactive\": false, \"pad\": {\"r\": 10, \"t\": 70}, \"xanchor\": \"right\", \"type\": \"buttons\", \"x\": 0.1, \"y\": 0}], \"legend\": {\"tracegroupgap\": 0}, \"height\": 600, \"xaxis\": {\"title\": {\"text\": \"ctp_bin_labels\"}}, \"margin\": {\"t\": 60}, \"barmode\": \"relative\", \"grid\": {\"xgap\": 0.1, \"xside\": \"bottom\", \"yaxes\": [\"y\"], \"yside\": \"left\", \"ygap\": 0.1, \"xaxes\": [\"x\"]}, \"yaxis\": {\"title\": {\"text\": \"ctp_bin_counts\"}, \"range\": [0, 1300]}, \"sliders\": [{\"steps\": [{\"method\": \"animate\", \"args\": [[\"0.0\"], {\"frame\": {\"redraw\": true, \"duration\": 0}, \"transition\": {\"easing\": \"linear\", \"duration\": 0}, \"fromcurrent\": true, \"mode\": \"immediate\"}], \"label\": \"0.0\"}, {\"method\": \"animate\", \"args\": [[\"1.0\"], {\"frame\": {\"redraw\": true, \"duration\": 0}, \"transition\": {\"easing\": \"linear\", \"duration\": 0}, \"fromcurrent\": true, \"mode\": \"immediate\"}], \"label\": \"1.0\"}, {\"method\": \"animate\", \"args\": [[\"2.0\"], {\"frame\": {\"redraw\": true, \"duration\": 0}, \"transition\": {\"easing\": \"linear\", \"duration\": 0}, \"fromcurrent\": true, \"mode\": \"immediate\"}], \"label\": \"2.0\"}, {\"method\": \"animate\", \"args\": [[\"3.0\"], {\"frame\": {\"redraw\": true, \"duration\": 0}, \"transition\": {\"easing\": \"linear\", \"duration\": 0}, \"fromcurrent\": true, \"mode\": \"immediate\"}], \"label\": \"3.0\"}, {\"method\": \"animate\", \"args\": [[\"4.0\"], {\"frame\": {\"redraw\": true, \"duration\": 0}, \"transition\": {\"easing\": \"linear\", \"duration\": 0}, \"fromcurrent\": true, \"mode\": \"immediate\"}], \"label\": \"4.0\"}, {\"method\": \"animate\", \"args\": [[\"5.0\"], {\"frame\": {\"redraw\": true, \"duration\": 0}, \"transition\": {\"easing\": \"linear\", \"duration\": 0}, \"fromcurrent\": true, \"mode\": \"immediate\"}], \"label\": \"5.0\"}, {\"method\": \"animate\", \"args\": [[\"6.0\"], {\"frame\": {\"redraw\": true, \"duration\": 0}, \"transition\": {\"easing\": \"linear\", \"duration\": 0}, \"fromcurrent\": true, \"mode\": \"immediate\"}], \"label\": \"6.0\"}, {\"method\": \"animate\", \"args\": [[\"7.0\"], {\"frame\": {\"redraw\": true, \"duration\": 0}, \"transition\": {\"easing\": \"linear\", \"duration\": 0}, \"fromcurrent\": true, \"mode\": \"immediate\"}], \"label\": \"7.0\"}], \"yanchor\": \"top\", \"active\": 0, \"len\": 0.9, \"pad\": {\"b\": 10, \"t\": 60}, \"xanchor\": \"left\", \"x\": 0.1, \"y\": 0, \"currentvalue\": {\"prefix\": \"sim_index=\"}}], \"template\": {\"data\": {\"scatterpolargl\": [{\"marker\": {\"colorbar\": {\"ticks\": \"\", \"outlinewidth\": 0}}, \"type\": \"scatterpolargl\"}], \"bar\": [{\"marker\": {\"line\": {\"color\": \"#E5ECF6\", \"width\": 0.5}}, \"type\": \"bar\"}], \"choropleth\": [{\"type\": \"choropleth\", \"colorbar\": {\"ticks\": \"\", \"outlinewidth\": 0}}], \"carpet\": [{\"type\": \"carpet\", \"baxis\": {\"linecolor\": \"white\", \"gridcolor\": \"white\", \"endlinecolor\": \"#2a3f5f\", \"startlinecolor\": \"#2a3f5f\", \"minorgridcolor\": \"white\"}, \"aaxis\": {\"linecolor\": \"white\", \"gridcolor\": \"white\", \"endlinecolor\": \"#2a3f5f\", \"startlinecolor\": \"#2a3f5f\", \"minorgridcolor\": \"white\"}}], \"histogram\": [{\"marker\": {\"colorbar\": {\"ticks\": \"\", \"outlinewidth\": 0}}, \"type\": \"histogram\"}], \"parcoords\": [{\"line\": {\"colorbar\": {\"ticks\": \"\", \"outlinewidth\": 0}}, \"type\": \"parcoords\"}], \"barpolar\": [{\"marker\": {\"line\": {\"color\": \"#E5ECF6\", \"width\": 0.5}}, \"type\": \"barpolar\"}], \"heatmapgl\": [{\"type\": \"heatmapgl\", \"colorbar\": {\"ticks\": \"\", \"outlinewidth\": 0}}], \"scatter3d\": [{\"marker\": {\"colorbar\": {\"ticks\": \"\", \"outlinewidth\": 0}}, \"type\": \"scatter3d\"}], \"scattermapbox\": [{\"marker\": {\"colorbar\": {\"ticks\": \"\", \"outlinewidth\": 0}}, \"type\": \"scattermapbox\"}], \"surface\": [{\"type\": \"surface\", \"colorbar\": {\"ticks\": \"\", \"outlinewidth\": 0}}], \"histogram2d\": [{\"type\": \"histogram2d\", \"autocolorscale\": true, \"colorbar\": {\"ticks\": \"\", \"outlinewidth\": 0}}], \"heatmap\": [{\"type\": \"heatmap\", \"autocolorscale\": true, \"colorbar\": {\"ticks\": \"\", \"outlinewidth\": 0}}], \"scatter\": [{\"marker\": {\"colorbar\": {\"ticks\": \"\", \"outlinewidth\": 0}}, \"type\": \"scatter\"}], \"scatterternary\": [{\"marker\": {\"colorbar\": {\"ticks\": \"\", \"outlinewidth\": 0}}, \"type\": \"scatterternary\"}], \"scattergeo\": [{\"marker\": {\"colorbar\": {\"ticks\": \"\", \"outlinewidth\": 0}}, \"type\": \"scattergeo\"}], \"histogram2dcontour\": [{\"type\": \"histogram2dcontour\", \"autocolorscale\": true, \"colorbar\": {\"ticks\": \"\", \"outlinewidth\": 0}}], \"mesh3d\": [{\"type\": \"mesh3d\", \"colorbar\": {\"ticks\": \"\", \"outlinewidth\": 0}}], \"scattercarpet\": [{\"marker\": {\"colorbar\": {\"ticks\": \"\", \"outlinewidth\": 0}}, \"type\": \"scattercarpet\"}], \"contourcarpet\": [{\"type\": \"contourcarpet\", \"colorbar\": {\"ticks\": \"\", \"outlinewidth\": 0}}], \"scatterpolar\": [{\"marker\": {\"colorbar\": {\"ticks\": \"\", \"outlinewidth\": 0}}, \"type\": \"scatterpolar\"}], \"table\": [{\"type\": \"table\", \"header\": {\"line\": {\"color\": \"white\"}, \"fill\": {\"color\": \"#C8D4E3\"}}, \"cells\": {\"line\": {\"color\": \"white\"}, \"fill\": {\"color\": \"#EBF0F8\"}}}], \"scattergl\": [{\"marker\": {\"colorbar\": {\"ticks\": \"\", \"outlinewidth\": 0}}, \"type\": \"scattergl\"}], \"contour\": [{\"type\": \"contour\", \"autocolorscale\": true, \"colorbar\": {\"ticks\": \"\", \"outlinewidth\": 0}}]}, \"layout\": {\"yaxis\": {\"linecolor\": \"white\", \"ticks\": \"\", \"gridcolor\": \"white\", \"zerolinecolor\": \"white\", \"zerolinewidth\": 2, \"automargin\": true}, \"scene\": {\"yaxis\": {\"linecolor\": \"white\", \"ticks\": \"\", \"gridcolor\": \"white\", \"zerolinecolor\": \"white\", \"backgroundcolor\": \"#E5ECF6\", \"showbackground\": true, \"gridwidth\": 2}, \"zaxis\": {\"linecolor\": \"white\", \"ticks\": \"\", \"gridcolor\": \"white\", \"zerolinecolor\": \"white\", \"backgroundcolor\": \"#E5ECF6\", \"showbackground\": true, \"gridwidth\": 2}, \"xaxis\": {\"linecolor\": \"white\", \"ticks\": \"\", \"gridcolor\": \"white\", \"zerolinecolor\": \"white\", \"backgroundcolor\": \"#E5ECF6\", \"showbackground\": true, \"gridwidth\": 2}}, \"xaxis\": {\"linecolor\": \"white\", \"ticks\": \"\", \"gridcolor\": \"white\", \"zerolinecolor\": \"white\", \"zerolinewidth\": 2, \"automargin\": true}, \"hovermode\": \"closest\", \"colorscale\": {\"sequential\": [[0.0, \"#0508b8\"], [0.0893854748603352, \"#1910d8\"], [0.1787709497206704, \"#3c19f0\"], [0.2681564245810056, \"#6b1cfb\"], [0.3575418994413408, \"#981cfd\"], [0.44692737430167595, \"#bf1cfd\"], [0.5363128491620112, \"#dd2bfd\"], [0.6256983240223464, \"#f246fe\"], [0.7150837988826816, \"#fc67fd\"], [0.8044692737430168, \"#fe88fc\"], [0.8938547486033519, \"#fea5fd\"], [0.9832402234636871, \"#febefe\"], [1.0, \"#fec3fe\"]], \"diverging\": [[0, \"#8e0152\"], [0.1, \"#c51b7d\"], [0.2, \"#de77ae\"], [0.3, \"#f1b6da\"], [0.4, \"#fde0ef\"], [0.5, \"#f7f7f7\"], [0.6, \"#e6f5d0\"], [0.7, \"#b8e186\"], [0.8, \"#7fbc41\"], [0.9, \"#4d9221\"], [1, \"#276419\"]], \"sequentialminus\": [[0.0, \"#0508b8\"], [0.0893854748603352, \"#1910d8\"], [0.1787709497206704, \"#3c19f0\"], [0.2681564245810056, \"#6b1cfb\"], [0.3575418994413408, \"#981cfd\"], [0.44692737430167595, \"#bf1cfd\"], [0.5363128491620112, \"#dd2bfd\"], [0.6256983240223464, \"#f246fe\"], [0.7150837988826816, \"#fc67fd\"], [0.8044692737430168, \"#fe88fc\"], [0.8938547486033519, \"#fea5fd\"], [0.9832402234636871, \"#febefe\"], [1.0, \"#fec3fe\"]]}, \"ternary\": {\"caxis\": {\"linecolor\": \"white\", \"ticks\": \"\", \"gridcolor\": \"white\"}, \"bgcolor\": \"#E5ECF6\", \"baxis\": {\"linecolor\": \"white\", \"ticks\": \"\", \"gridcolor\": \"white\"}, \"aaxis\": {\"linecolor\": \"white\", \"ticks\": \"\", \"gridcolor\": \"white\"}}, \"geo\": {\"lakecolor\": \"white\", \"subunitcolor\": \"white\", \"showlakes\": true, \"landcolor\": \"#E5ECF6\", \"showland\": true, \"bgcolor\": \"white\"}, \"annotationdefaults\": {\"arrowcolor\": \"#506784\", \"arrowhead\": 0, \"arrowwidth\": 1}, \"mapbox\": {\"style\": \"light\"}, \"font\": {\"color\": \"#2a3f5f\"}, \"title\": {\"x\": 0.05}, \"shapedefaults\": {\"fillcolor\": \"#506784\", \"opacity\": 0.4, \"line\": {\"width\": 0}}, \"plot_bgcolor\": \"#E5ECF6\", \"colorway\": [\"#636efa\", \"#EF553B\", \"#00cc96\", \"#ab63fa\", \"#19d3f3\", \"#e763fa\", \"#FECB52\", \"#FFA15A\", \"#FF6692\", \"#B6E880\"], \"polar\": {\"angularaxis\": {\"linecolor\": \"white\", \"ticks\": \"\", \"gridcolor\": \"white\"}, \"radialaxis\": {\"linecolor\": \"white\", \"ticks\": \"\", \"gridcolor\": \"white\"}, \"bgcolor\": \"#E5ECF6\"}, \"paper_bgcolor\": \"white\"}}},\n",
       "            {\"linkText\": \"Export to plot.ly\", \"showLink\": false, \"plotlyServerURL\": \"https://plot.ly\"}\n",
       "        ).then(function () {return Plotly.addFrames('4606db30-c0b1-480e-8bae-3748c0c57262',[{\"data\": [{\"showlegend\": false, \"alignmentgroup\": \"True\", \"yaxis\": \"y\", \"orientation\": \"v\", \"xaxis\": \"x\", \"hovertemplate\": \"sim_index=0.0<br>ctp_bin_labels=%{x}<br>ctp_bin_counts=%{y}<extra></extra>\", \"marker\": {\"color\": \"#636efa\"}, \"type\": \"bar\", \"x\": [0.8263157894736842, 0.8421052631578947, 0.8578947368421053, 0.8736842105263158, 0.8894736842105263, 0.9052631578947369, 0.9210526315789473], \"y\": [2.0, 1.0, 1.0, 7.0, 5.0, 3.0, 1.0], \"textposition\": \"auto\", \"name\": \"\", \"offsetgroup\": \"\", \"legendgroup\": \"\"}], \"name\": \"0.0\"}, {\"data\": [{\"showlegend\": false, \"alignmentgroup\": \"True\", \"yaxis\": \"y\", \"orientation\": \"v\", \"xaxis\": \"x\", \"hovertemplate\": \"sim_index=1.0<br>ctp_bin_labels=%{x}<br>ctp_bin_counts=%{y}<extra></extra>\", \"marker\": {\"color\": \"#636efa\"}, \"type\": \"bar\", \"x\": [0.8105263157894737, 0.8263157894736842, 0.8421052631578947, 0.8578947368421053, 0.8736842105263158, 0.8894736842105263, 0.9052631578947369, 0.9210526315789473, 0.9368421052631579], \"y\": [2.0, 6.0, 5.0, 6.0, 9.0, 5.0, 9.0, 6.0, 2.0], \"textposition\": \"auto\", \"name\": \"\", \"offsetgroup\": \"\", \"legendgroup\": \"\"}], \"name\": \"1.0\"}, {\"data\": [{\"showlegend\": false, \"alignmentgroup\": \"True\", \"yaxis\": \"y\", \"orientation\": \"v\", \"xaxis\": \"x\", \"hovertemplate\": \"sim_index=2.0<br>ctp_bin_labels=%{x}<br>ctp_bin_counts=%{y}<extra></extra>\", \"marker\": {\"color\": \"#636efa\"}, \"type\": \"bar\", \"x\": [0.8105263157894737, 0.8263157894736842, 0.8421052631578947, 0.8578947368421053, 0.8736842105263158, 0.8894736842105263, 0.9052631578947369, 0.9210526315789473], \"y\": [3.0, 7.0, 12.0, 13.0, 29.0, 13.0, 18.0, 5.0], \"textposition\": \"auto\", \"name\": \"\", \"offsetgroup\": \"\", \"legendgroup\": \"\"}], \"name\": \"2.0\"}, {\"data\": [{\"showlegend\": false, \"alignmentgroup\": \"True\", \"yaxis\": \"y\", \"orientation\": \"v\", \"xaxis\": \"x\", \"hovertemplate\": \"sim_index=3.0<br>ctp_bin_labels=%{x}<br>ctp_bin_counts=%{y}<extra></extra>\", \"marker\": {\"color\": \"#636efa\"}, \"type\": \"bar\", \"x\": [0.7947368421052632, 0.8105263157894737, 0.8263157894736842, 0.8421052631578947, 0.8578947368421053, 0.8736842105263158, 0.8894736842105263, 0.9052631578947369, 0.9210526315789473, 0.9368421052631579, 0.9526315789473685], \"y\": [2.0, 7.0, 5.0, 41.0, 34.0, 74.0, 28.0, 50.0, 6.0, 2.0, 1.0], \"textposition\": \"auto\", \"name\": \"\", \"offsetgroup\": \"\", \"legendgroup\": \"\"}], \"name\": \"3.0\"}, {\"data\": [{\"showlegend\": false, \"alignmentgroup\": \"True\", \"yaxis\": \"y\", \"orientation\": \"v\", \"xaxis\": \"x\", \"hovertemplate\": \"sim_index=4.0<br>ctp_bin_labels=%{x}<br>ctp_bin_counts=%{y}<extra></extra>\", \"marker\": {\"color\": \"#636efa\"}, \"type\": \"bar\", \"x\": [0.7789473684210526, 0.7947368421052632, 0.8105263157894737, 0.8263157894736842, 0.8421052631578947, 0.8578947368421053, 0.8736842105263158, 0.8894736842105263, 0.9052631578947369, 0.9210526315789473, 0.9368421052631579, 0.9526315789473685], \"y\": [1.0, 2.0, 20.0, 17.0, 66.0, 61.0, 128.0, 68.0, 95.0, 30.0, 8.0, 4.0], \"textposition\": \"auto\", \"name\": \"\", \"offsetgroup\": \"\", \"legendgroup\": \"\"}], \"name\": \"4.0\"}, {\"data\": [{\"showlegend\": false, \"alignmentgroup\": \"True\", \"yaxis\": \"y\", \"orientation\": \"v\", \"xaxis\": \"x\", \"hovertemplate\": \"sim_index=5.0<br>ctp_bin_labels=%{x}<br>ctp_bin_counts=%{y}<extra></extra>\", \"marker\": {\"color\": \"#636efa\"}, \"type\": \"bar\", \"x\": [0.7947368421052632, 0.8105263157894737, 0.8263157894736842, 0.8421052631578947, 0.8578947368421053, 0.8736842105263158, 0.8894736842105263, 0.9052631578947369, 0.9210526315789473, 0.9368421052631579, 0.9526315789473685], \"y\": [8.0, 33.0, 46.0, 138.0, 125.0, 264.0, 133.0, 172.0, 64.0, 10.0, 7.0], \"textposition\": \"auto\", \"name\": \"\", \"offsetgroup\": \"\", \"legendgroup\": \"\"}], \"name\": \"5.0\"}, {\"data\": [{\"showlegend\": false, \"alignmentgroup\": \"True\", \"yaxis\": \"y\", \"orientation\": \"v\", \"xaxis\": \"x\", \"hovertemplate\": \"sim_index=6.0<br>ctp_bin_labels=%{x}<br>ctp_bin_counts=%{y}<extra></extra>\", \"marker\": {\"color\": \"#636efa\"}, \"type\": \"bar\", \"x\": [0.7947368421052632, 0.8105263157894737, 0.8263157894736842, 0.8421052631578947, 0.8578947368421053, 0.8736842105263158, 0.8894736842105263, 0.9052631578947369, 0.9210526315789473, 0.9368421052631579, 0.9526315789473685], \"y\": [7.0, 54.0, 67.0, 302.0, 211.0, 552.0, 259.0, 379.0, 143.0, 18.0, 8.0], \"textposition\": \"auto\", \"name\": \"\", \"offsetgroup\": \"\", \"legendgroup\": \"\"}], \"name\": \"6.0\"}, {\"data\": [{\"showlegend\": false, \"alignmentgroup\": \"True\", \"yaxis\": \"y\", \"orientation\": \"v\", \"xaxis\": \"x\", \"hovertemplate\": \"sim_index=7.0<br>ctp_bin_labels=%{x}<br>ctp_bin_counts=%{y}<extra></extra>\", \"marker\": {\"color\": \"#636efa\"}, \"type\": \"bar\", \"x\": [0.763157894736842, 0.7789473684210526, 0.7947368421052632, 0.8105263157894737, 0.8263157894736842, 0.8421052631578947, 0.8578947368421053, 0.8736842105263158, 0.8894736842105263, 0.9052631578947369, 0.9210526315789473, 0.9368421052631579, 0.9526315789473685, 0.968421052631579], \"y\": [2.0, 2.0, 19.0, 92.0, 109.0, 509.0, 331.0, 795.0, 395.0, 514.0, 186.0, 30.0, 15.0, 1.0], \"textposition\": \"auto\", \"name\": \"\", \"offsetgroup\": \"\", \"legendgroup\": \"\"}], \"name\": \"7.0\"}]);})\n",
       "    }\n",
       "        });</script><script type=\"text/javascript\">window.addEventListener(\"resize\", function(){if (document.getElementById(\"4606db30-c0b1-480e-8bae-3748c0c57262\")) {window._Plotly.Plots.resize(document.getElementById(\"4606db30-c0b1-480e-8bae-3748c0c57262\"));};})</script>"
      ]
     },
     "metadata": {},
     "output_type": "display_data"
    }
   ],
   "source": [
    "draw_interactive_bar_plot_for_simulations(\n",
    "    make_df_for_simulations(simulate_ctp)\n",
    ")"
   ]
  },
  {
   "cell_type": "code",
   "execution_count": 33,
   "metadata": {},
   "outputs": [
    {
     "data": {
      "application/vnd.plotly.v1+json": {
       "config": {
        "linkText": "Export to plot.ly",
        "plotlyServerURL": "https://plot.ly",
        "showLink": false
       },
       "data": [
        {
         "alignmentgroup": "True",
         "hovertemplate": "sim_index=0.0<br>ctp_bin_labels=%{x}<br>ctp_bin_prob=%{y}<extra></extra>",
         "legendgroup": "",
         "marker": {
          "color": "#636efa"
         },
         "name": "",
         "offsetgroup": "",
         "orientation": "v",
         "showlegend": false,
         "textposition": "auto",
         "type": "bar",
         "uid": "dda70430-3fa6-4a7b-a809-728209d71c2a",
         "x": [
          0.8263157894736842,
          0.8421052631578947,
          0.8578947368421053,
          0.8736842105263158,
          0.8894736842105263,
          0.9052631578947369,
          0.9210526315789473
         ],
         "xaxis": "x",
         "y": [
          0.05,
          0.1,
          0.15,
          0.25,
          0.25,
          0.15,
          0.05
         ],
         "yaxis": "y"
        }
       ],
       "frames": [
        {
         "data": [
          {
           "alignmentgroup": "True",
           "hovertemplate": "sim_index=0.0<br>ctp_bin_labels=%{x}<br>ctp_bin_prob=%{y}<extra></extra>",
           "legendgroup": "",
           "marker": {
            "color": "#636efa"
           },
           "name": "",
           "offsetgroup": "",
           "orientation": "v",
           "showlegend": false,
           "textposition": "auto",
           "type": "bar",
           "x": [
            0.8263157894736842,
            0.8421052631578947,
            0.8578947368421053,
            0.8736842105263158,
            0.8894736842105263,
            0.9052631578947369,
            0.9210526315789473
           ],
           "xaxis": "x",
           "y": [
            0.05,
            0.1,
            0.15,
            0.25,
            0.25,
            0.15,
            0.05
           ],
           "yaxis": "y"
          }
         ],
         "name": "0.0"
        },
        {
         "data": [
          {
           "alignmentgroup": "True",
           "hovertemplate": "sim_index=1.0<br>ctp_bin_labels=%{x}<br>ctp_bin_prob=%{y}<extra></extra>",
           "legendgroup": "",
           "marker": {
            "color": "#636efa"
           },
           "name": "",
           "offsetgroup": "",
           "orientation": "v",
           "showlegend": false,
           "textposition": "auto",
           "type": "bar",
           "x": [
            0.7947368421052632,
            0.8105263157894737,
            0.8263157894736842,
            0.8421052631578947,
            0.8578947368421053,
            0.8736842105263158,
            0.8894736842105263,
            0.9052631578947369,
            0.9210526315789473
           ],
           "xaxis": "x",
           "y": [
            0.06,
            0.08,
            0.06,
            0.1,
            0.04,
            0.26,
            0.08,
            0.22,
            0.1
           ],
           "yaxis": "y"
          }
         ],
         "name": "1.0"
        },
        {
         "data": [
          {
           "alignmentgroup": "True",
           "hovertemplate": "sim_index=2.0<br>ctp_bin_labels=%{x}<br>ctp_bin_prob=%{y}<extra></extra>",
           "legendgroup": "",
           "marker": {
            "color": "#636efa"
           },
           "name": "",
           "offsetgroup": "",
           "orientation": "v",
           "showlegend": false,
           "textposition": "auto",
           "type": "bar",
           "x": [
            0.7947368421052632,
            0.8105263157894737,
            0.8421052631578947,
            0.8578947368421053,
            0.8736842105263158,
            0.8894736842105263,
            0.9052631578947369,
            0.9210526315789473,
            0.9368421052631579,
            0.9526315789473685
           ],
           "xaxis": "x",
           "y": [
            0.01,
            0.06,
            0.11,
            0.07,
            0.28,
            0.17,
            0.17,
            0.11,
            0.01,
            0.01
           ],
           "yaxis": "y"
          }
         ],
         "name": "2.0"
        },
        {
         "data": [
          {
           "alignmentgroup": "True",
           "hovertemplate": "sim_index=3.0<br>ctp_bin_labels=%{x}<br>ctp_bin_prob=%{y}<extra></extra>",
           "legendgroup": "",
           "marker": {
            "color": "#636efa"
           },
           "name": "",
           "offsetgroup": "",
           "orientation": "v",
           "showlegend": false,
           "textposition": "auto",
           "type": "bar",
           "x": [
            0.7947368421052632,
            0.8105263157894737,
            0.8263157894736842,
            0.8421052631578947,
            0.8578947368421053,
            0.8736842105263158,
            0.8894736842105263,
            0.9052631578947369,
            0.9210526315789473,
            0.9368421052631579,
            0.9526315789473685
           ],
           "xaxis": "x",
           "y": [
            0.004,
            0.02,
            0.04,
            0.148,
            0.12,
            0.328,
            0.116,
            0.168,
            0.044,
            0.008,
            0.004
           ],
           "yaxis": "y"
          }
         ],
         "name": "3.0"
        },
        {
         "data": [
          {
           "alignmentgroup": "True",
           "hovertemplate": "sim_index=4.0<br>ctp_bin_labels=%{x}<br>ctp_bin_prob=%{y}<extra></extra>",
           "legendgroup": "",
           "marker": {
            "color": "#636efa"
           },
           "name": "",
           "offsetgroup": "",
           "orientation": "v",
           "showlegend": false,
           "textposition": "auto",
           "type": "bar",
           "x": [
            0.763157894736842,
            0.7789473684210526,
            0.7947368421052632,
            0.8105263157894737,
            0.8263157894736842,
            0.8421052631578947,
            0.8578947368421053,
            0.8736842105263158,
            0.8894736842105263,
            0.9052631578947369,
            0.9210526315789473,
            0.9368421052631579
           ],
           "xaxis": "x",
           "y": [
            0.002,
            0.004,
            0.014,
            0.024,
            0.034,
            0.156,
            0.106,
            0.288,
            0.112,
            0.194,
            0.06,
            0.006
           ],
           "yaxis": "y"
          }
         ],
         "name": "4.0"
        },
        {
         "data": [
          {
           "alignmentgroup": "True",
           "hovertemplate": "sim_index=5.0<br>ctp_bin_labels=%{x}<br>ctp_bin_prob=%{y}<extra></extra>",
           "legendgroup": "",
           "marker": {
            "color": "#636efa"
           },
           "name": "",
           "offsetgroup": "",
           "orientation": "v",
           "showlegend": false,
           "textposition": "auto",
           "type": "bar",
           "x": [
            0.7947368421052632,
            0.8105263157894737,
            0.8263157894736842,
            0.8421052631578947,
            0.8578947368421053,
            0.8736842105263158,
            0.8894736842105263,
            0.9052631578947369,
            0.9210526315789473,
            0.9368421052631579,
            0.9526315789473685,
            0.968421052631579
           ],
           "xaxis": "x",
           "y": [
            0.006,
            0.026,
            0.039,
            0.149,
            0.127,
            0.285,
            0.131,
            0.175,
            0.049,
            0.01,
            0.002,
            0.001
           ],
           "yaxis": "y"
          }
         ],
         "name": "5.0"
        },
        {
         "data": [
          {
           "alignmentgroup": "True",
           "hovertemplate": "sim_index=6.0<br>ctp_bin_labels=%{x}<br>ctp_bin_prob=%{y}<extra></extra>",
           "legendgroup": "",
           "marker": {
            "color": "#636efa"
           },
           "name": "",
           "offsetgroup": "",
           "orientation": "v",
           "showlegend": false,
           "textposition": "auto",
           "type": "bar",
           "x": [
            0.7789473684210526,
            0.7947368421052632,
            0.8105263157894737,
            0.8263157894736842,
            0.8421052631578947,
            0.8578947368421053,
            0.8736842105263158,
            0.8894736842105263,
            0.9052631578947369,
            0.9210526315789473,
            0.9368421052631579,
            0.9526315789473685,
            0.968421052631579
           ],
           "xaxis": "x",
           "y": [
            0.0005,
            0.005,
            0.0335,
            0.04,
            0.1495,
            0.1205,
            0.271,
            0.1275,
            0.176,
            0.062,
            0.008,
            0.0055,
            0.001
           ],
           "yaxis": "y"
          }
         ],
         "name": "6.0"
        },
        {
         "data": [
          {
           "alignmentgroup": "True",
           "hovertemplate": "sim_index=7.0<br>ctp_bin_labels=%{x}<br>ctp_bin_prob=%{y}<extra></extra>",
           "legendgroup": "",
           "marker": {
            "color": "#636efa"
           },
           "name": "",
           "offsetgroup": "",
           "orientation": "v",
           "showlegend": false,
           "textposition": "auto",
           "type": "bar",
           "x": [
            0.763157894736842,
            0.7947368421052632,
            0.8105263157894737,
            0.8263157894736842,
            0.8421052631578947,
            0.8578947368421053,
            0.8736842105263158,
            0.8894736842105263,
            0.9052631578947369,
            0.9210526315789473,
            0.9368421052631579,
            0.9526315789473685
           ],
           "xaxis": "x",
           "y": [
            0.0003333333333333333,
            0.006333333333333333,
            0.026,
            0.043,
            0.148,
            0.123,
            0.274,
            0.12233333333333334,
            0.171,
            0.07033333333333333,
            0.009333333333333334,
            0.006333333333333333
           ],
           "yaxis": "y"
          }
         ],
         "name": "7.0"
        }
       ],
       "layout": {
        "barmode": "relative",
        "grid": {
         "xaxes": [
          "x"
         ],
         "xgap": 0.1,
         "xside": "bottom",
         "yaxes": [
          "y"
         ],
         "ygap": 0.1,
         "yside": "left"
        },
        "height": 600,
        "legend": {
         "tracegroupgap": 0
        },
        "margin": {
         "t": 60
        },
        "sliders": [
         {
          "active": 0,
          "currentvalue": {
           "prefix": "sim_index="
          },
          "len": 0.9,
          "pad": {
           "b": 10,
           "t": 60
          },
          "steps": [
           {
            "args": [
             [
              "0.0"
             ],
             {
              "frame": {
               "duration": 0,
               "redraw": true
              },
              "fromcurrent": true,
              "mode": "immediate",
              "transition": {
               "duration": 0,
               "easing": "linear"
              }
             }
            ],
            "label": "0.0",
            "method": "animate"
           },
           {
            "args": [
             [
              "1.0"
             ],
             {
              "frame": {
               "duration": 0,
               "redraw": true
              },
              "fromcurrent": true,
              "mode": "immediate",
              "transition": {
               "duration": 0,
               "easing": "linear"
              }
             }
            ],
            "label": "1.0",
            "method": "animate"
           },
           {
            "args": [
             [
              "2.0"
             ],
             {
              "frame": {
               "duration": 0,
               "redraw": true
              },
              "fromcurrent": true,
              "mode": "immediate",
              "transition": {
               "duration": 0,
               "easing": "linear"
              }
             }
            ],
            "label": "2.0",
            "method": "animate"
           },
           {
            "args": [
             [
              "3.0"
             ],
             {
              "frame": {
               "duration": 0,
               "redraw": true
              },
              "fromcurrent": true,
              "mode": "immediate",
              "transition": {
               "duration": 0,
               "easing": "linear"
              }
             }
            ],
            "label": "3.0",
            "method": "animate"
           },
           {
            "args": [
             [
              "4.0"
             ],
             {
              "frame": {
               "duration": 0,
               "redraw": true
              },
              "fromcurrent": true,
              "mode": "immediate",
              "transition": {
               "duration": 0,
               "easing": "linear"
              }
             }
            ],
            "label": "4.0",
            "method": "animate"
           },
           {
            "args": [
             [
              "5.0"
             ],
             {
              "frame": {
               "duration": 0,
               "redraw": true
              },
              "fromcurrent": true,
              "mode": "immediate",
              "transition": {
               "duration": 0,
               "easing": "linear"
              }
             }
            ],
            "label": "5.0",
            "method": "animate"
           },
           {
            "args": [
             [
              "6.0"
             ],
             {
              "frame": {
               "duration": 0,
               "redraw": true
              },
              "fromcurrent": true,
              "mode": "immediate",
              "transition": {
               "duration": 0,
               "easing": "linear"
              }
             }
            ],
            "label": "6.0",
            "method": "animate"
           },
           {
            "args": [
             [
              "7.0"
             ],
             {
              "frame": {
               "duration": 0,
               "redraw": true
              },
              "fromcurrent": true,
              "mode": "immediate",
              "transition": {
               "duration": 0,
               "easing": "linear"
              }
             }
            ],
            "label": "7.0",
            "method": "animate"
           }
          ],
          "x": 0.1,
          "xanchor": "left",
          "y": 0,
          "yanchor": "top"
         }
        ],
        "template": {
         "data": {
          "bar": [
           {
            "marker": {
             "line": {
              "color": "#E5ECF6",
              "width": 0.5
             }
            },
            "type": "bar"
           }
          ],
          "barpolar": [
           {
            "marker": {
             "line": {
              "color": "#E5ECF6",
              "width": 0.5
             }
            },
            "type": "barpolar"
           }
          ],
          "carpet": [
           {
            "aaxis": {
             "endlinecolor": "#2a3f5f",
             "gridcolor": "white",
             "linecolor": "white",
             "minorgridcolor": "white",
             "startlinecolor": "#2a3f5f"
            },
            "baxis": {
             "endlinecolor": "#2a3f5f",
             "gridcolor": "white",
             "linecolor": "white",
             "minorgridcolor": "white",
             "startlinecolor": "#2a3f5f"
            },
            "type": "carpet"
           }
          ],
          "choropleth": [
           {
            "colorbar": {
             "outlinewidth": 0,
             "ticks": ""
            },
            "type": "choropleth"
           }
          ],
          "contour": [
           {
            "autocolorscale": true,
            "colorbar": {
             "outlinewidth": 0,
             "ticks": ""
            },
            "type": "contour"
           }
          ],
          "contourcarpet": [
           {
            "colorbar": {
             "outlinewidth": 0,
             "ticks": ""
            },
            "type": "contourcarpet"
           }
          ],
          "heatmap": [
           {
            "autocolorscale": true,
            "colorbar": {
             "outlinewidth": 0,
             "ticks": ""
            },
            "type": "heatmap"
           }
          ],
          "heatmapgl": [
           {
            "colorbar": {
             "outlinewidth": 0,
             "ticks": ""
            },
            "type": "heatmapgl"
           }
          ],
          "histogram": [
           {
            "marker": {
             "colorbar": {
              "outlinewidth": 0,
              "ticks": ""
             }
            },
            "type": "histogram"
           }
          ],
          "histogram2d": [
           {
            "autocolorscale": true,
            "colorbar": {
             "outlinewidth": 0,
             "ticks": ""
            },
            "type": "histogram2d"
           }
          ],
          "histogram2dcontour": [
           {
            "autocolorscale": true,
            "colorbar": {
             "outlinewidth": 0,
             "ticks": ""
            },
            "type": "histogram2dcontour"
           }
          ],
          "mesh3d": [
           {
            "colorbar": {
             "outlinewidth": 0,
             "ticks": ""
            },
            "type": "mesh3d"
           }
          ],
          "parcoords": [
           {
            "line": {
             "colorbar": {
              "outlinewidth": 0,
              "ticks": ""
             }
            },
            "type": "parcoords"
           }
          ],
          "scatter": [
           {
            "marker": {
             "colorbar": {
              "outlinewidth": 0,
              "ticks": ""
             }
            },
            "type": "scatter"
           }
          ],
          "scatter3d": [
           {
            "marker": {
             "colorbar": {
              "outlinewidth": 0,
              "ticks": ""
             }
            },
            "type": "scatter3d"
           }
          ],
          "scattercarpet": [
           {
            "marker": {
             "colorbar": {
              "outlinewidth": 0,
              "ticks": ""
             }
            },
            "type": "scattercarpet"
           }
          ],
          "scattergeo": [
           {
            "marker": {
             "colorbar": {
              "outlinewidth": 0,
              "ticks": ""
             }
            },
            "type": "scattergeo"
           }
          ],
          "scattergl": [
           {
            "marker": {
             "colorbar": {
              "outlinewidth": 0,
              "ticks": ""
             }
            },
            "type": "scattergl"
           }
          ],
          "scattermapbox": [
           {
            "marker": {
             "colorbar": {
              "outlinewidth": 0,
              "ticks": ""
             }
            },
            "type": "scattermapbox"
           }
          ],
          "scatterpolar": [
           {
            "marker": {
             "colorbar": {
              "outlinewidth": 0,
              "ticks": ""
             }
            },
            "type": "scatterpolar"
           }
          ],
          "scatterpolargl": [
           {
            "marker": {
             "colorbar": {
              "outlinewidth": 0,
              "ticks": ""
             }
            },
            "type": "scatterpolargl"
           }
          ],
          "scatterternary": [
           {
            "marker": {
             "colorbar": {
              "outlinewidth": 0,
              "ticks": ""
             }
            },
            "type": "scatterternary"
           }
          ],
          "surface": [
           {
            "colorbar": {
             "outlinewidth": 0,
             "ticks": ""
            },
            "type": "surface"
           }
          ],
          "table": [
           {
            "cells": {
             "fill": {
              "color": "#EBF0F8"
             },
             "line": {
              "color": "white"
             }
            },
            "header": {
             "fill": {
              "color": "#C8D4E3"
             },
             "line": {
              "color": "white"
             }
            },
            "type": "table"
           }
          ]
         },
         "layout": {
          "annotationdefaults": {
           "arrowcolor": "#506784",
           "arrowhead": 0,
           "arrowwidth": 1
          },
          "colorscale": {
           "diverging": [
            [
             0,
             "#8e0152"
            ],
            [
             0.1,
             "#c51b7d"
            ],
            [
             0.2,
             "#de77ae"
            ],
            [
             0.3,
             "#f1b6da"
            ],
            [
             0.4,
             "#fde0ef"
            ],
            [
             0.5,
             "#f7f7f7"
            ],
            [
             0.6,
             "#e6f5d0"
            ],
            [
             0.7,
             "#b8e186"
            ],
            [
             0.8,
             "#7fbc41"
            ],
            [
             0.9,
             "#4d9221"
            ],
            [
             1,
             "#276419"
            ]
           ],
           "sequential": [
            [
             0,
             "#0508b8"
            ],
            [
             0.0893854748603352,
             "#1910d8"
            ],
            [
             0.1787709497206704,
             "#3c19f0"
            ],
            [
             0.2681564245810056,
             "#6b1cfb"
            ],
            [
             0.3575418994413408,
             "#981cfd"
            ],
            [
             0.44692737430167595,
             "#bf1cfd"
            ],
            [
             0.5363128491620112,
             "#dd2bfd"
            ],
            [
             0.6256983240223464,
             "#f246fe"
            ],
            [
             0.7150837988826816,
             "#fc67fd"
            ],
            [
             0.8044692737430168,
             "#fe88fc"
            ],
            [
             0.8938547486033519,
             "#fea5fd"
            ],
            [
             0.9832402234636871,
             "#febefe"
            ],
            [
             1,
             "#fec3fe"
            ]
           ],
           "sequentialminus": [
            [
             0,
             "#0508b8"
            ],
            [
             0.0893854748603352,
             "#1910d8"
            ],
            [
             0.1787709497206704,
             "#3c19f0"
            ],
            [
             0.2681564245810056,
             "#6b1cfb"
            ],
            [
             0.3575418994413408,
             "#981cfd"
            ],
            [
             0.44692737430167595,
             "#bf1cfd"
            ],
            [
             0.5363128491620112,
             "#dd2bfd"
            ],
            [
             0.6256983240223464,
             "#f246fe"
            ],
            [
             0.7150837988826816,
             "#fc67fd"
            ],
            [
             0.8044692737430168,
             "#fe88fc"
            ],
            [
             0.8938547486033519,
             "#fea5fd"
            ],
            [
             0.9832402234636871,
             "#febefe"
            ],
            [
             1,
             "#fec3fe"
            ]
           ]
          },
          "colorway": [
           "#636efa",
           "#EF553B",
           "#00cc96",
           "#ab63fa",
           "#19d3f3",
           "#e763fa",
           "#FECB52",
           "#FFA15A",
           "#FF6692",
           "#B6E880"
          ],
          "font": {
           "color": "#2a3f5f"
          },
          "geo": {
           "bgcolor": "white",
           "lakecolor": "white",
           "landcolor": "#E5ECF6",
           "showlakes": true,
           "showland": true,
           "subunitcolor": "white"
          },
          "hovermode": "closest",
          "mapbox": {
           "style": "light"
          },
          "paper_bgcolor": "white",
          "plot_bgcolor": "#E5ECF6",
          "polar": {
           "angularaxis": {
            "gridcolor": "white",
            "linecolor": "white",
            "ticks": ""
           },
           "bgcolor": "#E5ECF6",
           "radialaxis": {
            "gridcolor": "white",
            "linecolor": "white",
            "ticks": ""
           }
          },
          "scene": {
           "xaxis": {
            "backgroundcolor": "#E5ECF6",
            "gridcolor": "white",
            "gridwidth": 2,
            "linecolor": "white",
            "showbackground": true,
            "ticks": "",
            "zerolinecolor": "white"
           },
           "yaxis": {
            "backgroundcolor": "#E5ECF6",
            "gridcolor": "white",
            "gridwidth": 2,
            "linecolor": "white",
            "showbackground": true,
            "ticks": "",
            "zerolinecolor": "white"
           },
           "zaxis": {
            "backgroundcolor": "#E5ECF6",
            "gridcolor": "white",
            "gridwidth": 2,
            "linecolor": "white",
            "showbackground": true,
            "ticks": "",
            "zerolinecolor": "white"
           }
          },
          "shapedefaults": {
           "fillcolor": "#506784",
           "line": {
            "width": 0
           },
           "opacity": 0.4
          },
          "ternary": {
           "aaxis": {
            "gridcolor": "white",
            "linecolor": "white",
            "ticks": ""
           },
           "baxis": {
            "gridcolor": "white",
            "linecolor": "white",
            "ticks": ""
           },
           "bgcolor": "#E5ECF6",
           "caxis": {
            "gridcolor": "white",
            "linecolor": "white",
            "ticks": ""
           }
          },
          "title": {
           "x": 0.05
          },
          "xaxis": {
           "automargin": true,
           "gridcolor": "white",
           "linecolor": "white",
           "ticks": "",
           "zerolinecolor": "white",
           "zerolinewidth": 2
          },
          "yaxis": {
           "automargin": true,
           "gridcolor": "white",
           "linecolor": "white",
           "ticks": "",
           "zerolinecolor": "white",
           "zerolinewidth": 2
          }
         }
        },
        "updatemenus": [
         {
          "buttons": [
           {
            "args": [
             null,
             {
              "frame": {
               "duration": 500,
               "redraw": true
              },
              "fromcurrent": true,
              "mode": "immediate",
              "transition": {
               "duration": 500,
               "easing": "linear"
              }
             }
            ],
            "label": "&#9654;",
            "method": "animate"
           },
           {
            "args": [
             [
              null
             ],
             {
              "frame": {
               "duration": 0,
               "redraw": true
              },
              "fromcurrent": true,
              "mode": "immediate",
              "transition": {
               "duration": 0,
               "easing": "linear"
              }
             }
            ],
            "label": "&#9724;",
            "method": "animate"
           }
          ],
          "direction": "left",
          "pad": {
           "r": 10,
           "t": 70
          },
          "showactive": false,
          "type": "buttons",
          "x": 0.1,
          "xanchor": "right",
          "y": 0,
          "yanchor": "top"
         }
        ],
        "xaxis": {
         "title": {
          "text": "ctp_bin_labels"
         }
        },
        "yaxis": {
         "range": [
          0,
          0.4
         ],
         "title": {
          "text": "ctp_bin_prob"
         }
        }
       }
      },
      "text/html": [
       "<div id=\"1d6d2925-c0db-4f26-ad3c-ad5edb215abb\" style=\"height: 600px; width: 100%;\" class=\"plotly-graph-div\"></div><script type=\"text/javascript\">require([\"plotly\"], function(Plotly) { window.PLOTLYENV=window.PLOTLYENV || {};window.PLOTLYENV.BASE_URL=\"https://plot.ly\";\n",
       "    if (document.getElementById(\"1d6d2925-c0db-4f26-ad3c-ad5edb215abb\")) {\n",
       "        Plotly.plot(\n",
       "            '1d6d2925-c0db-4f26-ad3c-ad5edb215abb',\n",
       "            [{\"showlegend\": false, \"alignmentgroup\": \"True\", \"yaxis\": \"y\", \"orientation\": \"v\", \"xaxis\": \"x\", \"hovertemplate\": \"sim_index=0.0<br>ctp_bin_labels=%{x}<br>ctp_bin_prob=%{y}<extra></extra>\", \"marker\": {\"color\": \"#636efa\"}, \"type\": \"bar\", \"x\": [0.8263157894736842, 0.8421052631578947, 0.8578947368421053, 0.8736842105263158, 0.8894736842105263, 0.9052631578947369, 0.9210526315789473], \"y\": [0.05, 0.1, 0.15, 0.25, 0.25, 0.15, 0.05], \"uid\": \"dda70430-3fa6-4a7b-a809-728209d71c2a\", \"textposition\": \"auto\", \"name\": \"\", \"offsetgroup\": \"\", \"legendgroup\": \"\"}],\n",
       "            {\"updatemenus\": [{\"direction\": \"left\", \"buttons\": [{\"method\": \"animate\", \"args\": [null, {\"frame\": {\"redraw\": true, \"duration\": 500}, \"transition\": {\"easing\": \"linear\", \"duration\": 500}, \"fromcurrent\": true, \"mode\": \"immediate\"}], \"label\": \"&#9654;\"}, {\"method\": \"animate\", \"args\": [[null], {\"frame\": {\"redraw\": true, \"duration\": 0}, \"transition\": {\"easing\": \"linear\", \"duration\": 0}, \"fromcurrent\": true, \"mode\": \"immediate\"}], \"label\": \"&#9724;\"}], \"yanchor\": \"top\", \"showactive\": false, \"pad\": {\"r\": 10, \"t\": 70}, \"xanchor\": \"right\", \"type\": \"buttons\", \"x\": 0.1, \"y\": 0}], \"legend\": {\"tracegroupgap\": 0}, \"height\": 600, \"xaxis\": {\"title\": {\"text\": \"ctp_bin_labels\"}}, \"margin\": {\"t\": 60}, \"barmode\": \"relative\", \"grid\": {\"xgap\": 0.1, \"xside\": \"bottom\", \"yaxes\": [\"y\"], \"yside\": \"left\", \"ygap\": 0.1, \"xaxes\": [\"x\"]}, \"yaxis\": {\"title\": {\"text\": \"ctp_bin_prob\"}, \"range\": [0, 0.4]}, \"sliders\": [{\"steps\": [{\"method\": \"animate\", \"args\": [[\"0.0\"], {\"frame\": {\"redraw\": true, \"duration\": 0}, \"transition\": {\"easing\": \"linear\", \"duration\": 0}, \"fromcurrent\": true, \"mode\": \"immediate\"}], \"label\": \"0.0\"}, {\"method\": \"animate\", \"args\": [[\"1.0\"], {\"frame\": {\"redraw\": true, \"duration\": 0}, \"transition\": {\"easing\": \"linear\", \"duration\": 0}, \"fromcurrent\": true, \"mode\": \"immediate\"}], \"label\": \"1.0\"}, {\"method\": \"animate\", \"args\": [[\"2.0\"], {\"frame\": {\"redraw\": true, \"duration\": 0}, \"transition\": {\"easing\": \"linear\", \"duration\": 0}, \"fromcurrent\": true, \"mode\": \"immediate\"}], \"label\": \"2.0\"}, {\"method\": \"animate\", \"args\": [[\"3.0\"], {\"frame\": {\"redraw\": true, \"duration\": 0}, \"transition\": {\"easing\": \"linear\", \"duration\": 0}, \"fromcurrent\": true, \"mode\": \"immediate\"}], \"label\": \"3.0\"}, {\"method\": \"animate\", \"args\": [[\"4.0\"], {\"frame\": {\"redraw\": true, \"duration\": 0}, \"transition\": {\"easing\": \"linear\", \"duration\": 0}, \"fromcurrent\": true, \"mode\": \"immediate\"}], \"label\": \"4.0\"}, {\"method\": \"animate\", \"args\": [[\"5.0\"], {\"frame\": {\"redraw\": true, \"duration\": 0}, \"transition\": {\"easing\": \"linear\", \"duration\": 0}, \"fromcurrent\": true, \"mode\": \"immediate\"}], \"label\": \"5.0\"}, {\"method\": \"animate\", \"args\": [[\"6.0\"], {\"frame\": {\"redraw\": true, \"duration\": 0}, \"transition\": {\"easing\": \"linear\", \"duration\": 0}, \"fromcurrent\": true, \"mode\": \"immediate\"}], \"label\": \"6.0\"}, {\"method\": \"animate\", \"args\": [[\"7.0\"], {\"frame\": {\"redraw\": true, \"duration\": 0}, \"transition\": {\"easing\": \"linear\", \"duration\": 0}, \"fromcurrent\": true, \"mode\": \"immediate\"}], \"label\": \"7.0\"}], \"yanchor\": \"top\", \"active\": 0, \"len\": 0.9, \"pad\": {\"b\": 10, \"t\": 60}, \"xanchor\": \"left\", \"x\": 0.1, \"y\": 0, \"currentvalue\": {\"prefix\": \"sim_index=\"}}], \"template\": {\"data\": {\"scatterpolargl\": [{\"marker\": {\"colorbar\": {\"ticks\": \"\", \"outlinewidth\": 0}}, \"type\": \"scatterpolargl\"}], \"bar\": [{\"marker\": {\"line\": {\"color\": \"#E5ECF6\", \"width\": 0.5}}, \"type\": \"bar\"}], \"choropleth\": [{\"type\": \"choropleth\", \"colorbar\": {\"ticks\": \"\", \"outlinewidth\": 0}}], \"carpet\": [{\"type\": \"carpet\", \"baxis\": {\"linecolor\": \"white\", \"gridcolor\": \"white\", \"endlinecolor\": \"#2a3f5f\", \"startlinecolor\": \"#2a3f5f\", \"minorgridcolor\": \"white\"}, \"aaxis\": {\"linecolor\": \"white\", \"gridcolor\": \"white\", \"endlinecolor\": \"#2a3f5f\", \"startlinecolor\": \"#2a3f5f\", \"minorgridcolor\": \"white\"}}], \"histogram\": [{\"marker\": {\"colorbar\": {\"ticks\": \"\", \"outlinewidth\": 0}}, \"type\": \"histogram\"}], \"parcoords\": [{\"line\": {\"colorbar\": {\"ticks\": \"\", \"outlinewidth\": 0}}, \"type\": \"parcoords\"}], \"barpolar\": [{\"marker\": {\"line\": {\"color\": \"#E5ECF6\", \"width\": 0.5}}, \"type\": \"barpolar\"}], \"heatmapgl\": [{\"type\": \"heatmapgl\", \"colorbar\": {\"ticks\": \"\", \"outlinewidth\": 0}}], \"scatter3d\": [{\"marker\": {\"colorbar\": {\"ticks\": \"\", \"outlinewidth\": 0}}, \"type\": \"scatter3d\"}], \"scattermapbox\": [{\"marker\": {\"colorbar\": {\"ticks\": \"\", \"outlinewidth\": 0}}, \"type\": \"scattermapbox\"}], \"surface\": [{\"type\": \"surface\", \"colorbar\": {\"ticks\": \"\", \"outlinewidth\": 0}}], \"histogram2d\": [{\"type\": \"histogram2d\", \"autocolorscale\": true, \"colorbar\": {\"ticks\": \"\", \"outlinewidth\": 0}}], \"heatmap\": [{\"type\": \"heatmap\", \"autocolorscale\": true, \"colorbar\": {\"ticks\": \"\", \"outlinewidth\": 0}}], \"scatter\": [{\"marker\": {\"colorbar\": {\"ticks\": \"\", \"outlinewidth\": 0}}, \"type\": \"scatter\"}], \"scatterternary\": [{\"marker\": {\"colorbar\": {\"ticks\": \"\", \"outlinewidth\": 0}}, \"type\": \"scatterternary\"}], \"scattergeo\": [{\"marker\": {\"colorbar\": {\"ticks\": \"\", \"outlinewidth\": 0}}, \"type\": \"scattergeo\"}], \"histogram2dcontour\": [{\"type\": \"histogram2dcontour\", \"autocolorscale\": true, \"colorbar\": {\"ticks\": \"\", \"outlinewidth\": 0}}], \"mesh3d\": [{\"type\": \"mesh3d\", \"colorbar\": {\"ticks\": \"\", \"outlinewidth\": 0}}], \"scattercarpet\": [{\"marker\": {\"colorbar\": {\"ticks\": \"\", \"outlinewidth\": 0}}, \"type\": \"scattercarpet\"}], \"contourcarpet\": [{\"type\": \"contourcarpet\", \"colorbar\": {\"ticks\": \"\", \"outlinewidth\": 0}}], \"scatterpolar\": [{\"marker\": {\"colorbar\": {\"ticks\": \"\", \"outlinewidth\": 0}}, \"type\": \"scatterpolar\"}], \"table\": [{\"type\": \"table\", \"header\": {\"line\": {\"color\": \"white\"}, \"fill\": {\"color\": \"#C8D4E3\"}}, \"cells\": {\"line\": {\"color\": \"white\"}, \"fill\": {\"color\": \"#EBF0F8\"}}}], \"scattergl\": [{\"marker\": {\"colorbar\": {\"ticks\": \"\", \"outlinewidth\": 0}}, \"type\": \"scattergl\"}], \"contour\": [{\"type\": \"contour\", \"autocolorscale\": true, \"colorbar\": {\"ticks\": \"\", \"outlinewidth\": 0}}]}, \"layout\": {\"yaxis\": {\"linecolor\": \"white\", \"ticks\": \"\", \"gridcolor\": \"white\", \"zerolinecolor\": \"white\", \"zerolinewidth\": 2, \"automargin\": true}, \"scene\": {\"yaxis\": {\"linecolor\": \"white\", \"ticks\": \"\", \"gridcolor\": \"white\", \"zerolinecolor\": \"white\", \"backgroundcolor\": \"#E5ECF6\", \"showbackground\": true, \"gridwidth\": 2}, \"zaxis\": {\"linecolor\": \"white\", \"ticks\": \"\", \"gridcolor\": \"white\", \"zerolinecolor\": \"white\", \"backgroundcolor\": \"#E5ECF6\", \"showbackground\": true, \"gridwidth\": 2}, \"xaxis\": {\"linecolor\": \"white\", \"ticks\": \"\", \"gridcolor\": \"white\", \"zerolinecolor\": \"white\", \"backgroundcolor\": \"#E5ECF6\", \"showbackground\": true, \"gridwidth\": 2}}, \"xaxis\": {\"linecolor\": \"white\", \"ticks\": \"\", \"gridcolor\": \"white\", \"zerolinecolor\": \"white\", \"zerolinewidth\": 2, \"automargin\": true}, \"hovermode\": \"closest\", \"colorscale\": {\"sequential\": [[0.0, \"#0508b8\"], [0.0893854748603352, \"#1910d8\"], [0.1787709497206704, \"#3c19f0\"], [0.2681564245810056, \"#6b1cfb\"], [0.3575418994413408, \"#981cfd\"], [0.44692737430167595, \"#bf1cfd\"], [0.5363128491620112, \"#dd2bfd\"], [0.6256983240223464, \"#f246fe\"], [0.7150837988826816, \"#fc67fd\"], [0.8044692737430168, \"#fe88fc\"], [0.8938547486033519, \"#fea5fd\"], [0.9832402234636871, \"#febefe\"], [1.0, \"#fec3fe\"]], \"diverging\": [[0, \"#8e0152\"], [0.1, \"#c51b7d\"], [0.2, \"#de77ae\"], [0.3, \"#f1b6da\"], [0.4, \"#fde0ef\"], [0.5, \"#f7f7f7\"], [0.6, \"#e6f5d0\"], [0.7, \"#b8e186\"], [0.8, \"#7fbc41\"], [0.9, \"#4d9221\"], [1, \"#276419\"]], \"sequentialminus\": [[0.0, \"#0508b8\"], [0.0893854748603352, \"#1910d8\"], [0.1787709497206704, \"#3c19f0\"], [0.2681564245810056, \"#6b1cfb\"], [0.3575418994413408, \"#981cfd\"], [0.44692737430167595, \"#bf1cfd\"], [0.5363128491620112, \"#dd2bfd\"], [0.6256983240223464, \"#f246fe\"], [0.7150837988826816, \"#fc67fd\"], [0.8044692737430168, \"#fe88fc\"], [0.8938547486033519, \"#fea5fd\"], [0.9832402234636871, \"#febefe\"], [1.0, \"#fec3fe\"]]}, \"ternary\": {\"caxis\": {\"linecolor\": \"white\", \"ticks\": \"\", \"gridcolor\": \"white\"}, \"bgcolor\": \"#E5ECF6\", \"baxis\": {\"linecolor\": \"white\", \"ticks\": \"\", \"gridcolor\": \"white\"}, \"aaxis\": {\"linecolor\": \"white\", \"ticks\": \"\", \"gridcolor\": \"white\"}}, \"geo\": {\"lakecolor\": \"white\", \"subunitcolor\": \"white\", \"showlakes\": true, \"landcolor\": \"#E5ECF6\", \"showland\": true, \"bgcolor\": \"white\"}, \"annotationdefaults\": {\"arrowcolor\": \"#506784\", \"arrowhead\": 0, \"arrowwidth\": 1}, \"mapbox\": {\"style\": \"light\"}, \"font\": {\"color\": \"#2a3f5f\"}, \"title\": {\"x\": 0.05}, \"shapedefaults\": {\"fillcolor\": \"#506784\", \"opacity\": 0.4, \"line\": {\"width\": 0}}, \"plot_bgcolor\": \"#E5ECF6\", \"colorway\": [\"#636efa\", \"#EF553B\", \"#00cc96\", \"#ab63fa\", \"#19d3f3\", \"#e763fa\", \"#FECB52\", \"#FFA15A\", \"#FF6692\", \"#B6E880\"], \"polar\": {\"angularaxis\": {\"linecolor\": \"white\", \"ticks\": \"\", \"gridcolor\": \"white\"}, \"radialaxis\": {\"linecolor\": \"white\", \"ticks\": \"\", \"gridcolor\": \"white\"}, \"bgcolor\": \"#E5ECF6\"}, \"paper_bgcolor\": \"white\"}}},\n",
       "            {\"linkText\": \"Export to plot.ly\", \"showLink\": false, \"plotlyServerURL\": \"https://plot.ly\"}\n",
       "        ).then(function () {return Plotly.addFrames('1d6d2925-c0db-4f26-ad3c-ad5edb215abb',[{\"data\": [{\"showlegend\": false, \"alignmentgroup\": \"True\", \"yaxis\": \"y\", \"orientation\": \"v\", \"xaxis\": \"x\", \"hovertemplate\": \"sim_index=0.0<br>ctp_bin_labels=%{x}<br>ctp_bin_prob=%{y}<extra></extra>\", \"marker\": {\"color\": \"#636efa\"}, \"type\": \"bar\", \"x\": [0.8263157894736842, 0.8421052631578947, 0.8578947368421053, 0.8736842105263158, 0.8894736842105263, 0.9052631578947369, 0.9210526315789473], \"y\": [0.05, 0.1, 0.15, 0.25, 0.25, 0.15, 0.05], \"textposition\": \"auto\", \"name\": \"\", \"offsetgroup\": \"\", \"legendgroup\": \"\"}], \"name\": \"0.0\"}, {\"data\": [{\"showlegend\": false, \"alignmentgroup\": \"True\", \"yaxis\": \"y\", \"orientation\": \"v\", \"xaxis\": \"x\", \"hovertemplate\": \"sim_index=1.0<br>ctp_bin_labels=%{x}<br>ctp_bin_prob=%{y}<extra></extra>\", \"marker\": {\"color\": \"#636efa\"}, \"type\": \"bar\", \"x\": [0.7947368421052632, 0.8105263157894737, 0.8263157894736842, 0.8421052631578947, 0.8578947368421053, 0.8736842105263158, 0.8894736842105263, 0.9052631578947369, 0.9210526315789473], \"y\": [0.06, 0.08, 0.06, 0.1, 0.04, 0.26, 0.08, 0.22, 0.1], \"textposition\": \"auto\", \"name\": \"\", \"offsetgroup\": \"\", \"legendgroup\": \"\"}], \"name\": \"1.0\"}, {\"data\": [{\"showlegend\": false, \"alignmentgroup\": \"True\", \"yaxis\": \"y\", \"orientation\": \"v\", \"xaxis\": \"x\", \"hovertemplate\": \"sim_index=2.0<br>ctp_bin_labels=%{x}<br>ctp_bin_prob=%{y}<extra></extra>\", \"marker\": {\"color\": \"#636efa\"}, \"type\": \"bar\", \"x\": [0.7947368421052632, 0.8105263157894737, 0.8421052631578947, 0.8578947368421053, 0.8736842105263158, 0.8894736842105263, 0.9052631578947369, 0.9210526315789473, 0.9368421052631579, 0.9526315789473685], \"y\": [0.01, 0.06, 0.11, 0.07, 0.28, 0.17, 0.17, 0.11, 0.01, 0.01], \"textposition\": \"auto\", \"name\": \"\", \"offsetgroup\": \"\", \"legendgroup\": \"\"}], \"name\": \"2.0\"}, {\"data\": [{\"showlegend\": false, \"alignmentgroup\": \"True\", \"yaxis\": \"y\", \"orientation\": \"v\", \"xaxis\": \"x\", \"hovertemplate\": \"sim_index=3.0<br>ctp_bin_labels=%{x}<br>ctp_bin_prob=%{y}<extra></extra>\", \"marker\": {\"color\": \"#636efa\"}, \"type\": \"bar\", \"x\": [0.7947368421052632, 0.8105263157894737, 0.8263157894736842, 0.8421052631578947, 0.8578947368421053, 0.8736842105263158, 0.8894736842105263, 0.9052631578947369, 0.9210526315789473, 0.9368421052631579, 0.9526315789473685], \"y\": [0.004, 0.02, 0.04, 0.148, 0.12, 0.328, 0.116, 0.168, 0.044, 0.008, 0.004], \"textposition\": \"auto\", \"name\": \"\", \"offsetgroup\": \"\", \"legendgroup\": \"\"}], \"name\": \"3.0\"}, {\"data\": [{\"showlegend\": false, \"alignmentgroup\": \"True\", \"yaxis\": \"y\", \"orientation\": \"v\", \"xaxis\": \"x\", \"hovertemplate\": \"sim_index=4.0<br>ctp_bin_labels=%{x}<br>ctp_bin_prob=%{y}<extra></extra>\", \"marker\": {\"color\": \"#636efa\"}, \"type\": \"bar\", \"x\": [0.763157894736842, 0.7789473684210526, 0.7947368421052632, 0.8105263157894737, 0.8263157894736842, 0.8421052631578947, 0.8578947368421053, 0.8736842105263158, 0.8894736842105263, 0.9052631578947369, 0.9210526315789473, 0.9368421052631579], \"y\": [0.002, 0.004, 0.014, 0.024, 0.034, 0.156, 0.106, 0.288, 0.112, 0.194, 0.06, 0.006], \"textposition\": \"auto\", \"name\": \"\", \"offsetgroup\": \"\", \"legendgroup\": \"\"}], \"name\": \"4.0\"}, {\"data\": [{\"showlegend\": false, \"alignmentgroup\": \"True\", \"yaxis\": \"y\", \"orientation\": \"v\", \"xaxis\": \"x\", \"hovertemplate\": \"sim_index=5.0<br>ctp_bin_labels=%{x}<br>ctp_bin_prob=%{y}<extra></extra>\", \"marker\": {\"color\": \"#636efa\"}, \"type\": \"bar\", \"x\": [0.7947368421052632, 0.8105263157894737, 0.8263157894736842, 0.8421052631578947, 0.8578947368421053, 0.8736842105263158, 0.8894736842105263, 0.9052631578947369, 0.9210526315789473, 0.9368421052631579, 0.9526315789473685, 0.968421052631579], \"y\": [0.006, 0.026, 0.039, 0.149, 0.127, 0.285, 0.131, 0.175, 0.049, 0.01, 0.002, 0.001], \"textposition\": \"auto\", \"name\": \"\", \"offsetgroup\": \"\", \"legendgroup\": \"\"}], \"name\": \"5.0\"}, {\"data\": [{\"showlegend\": false, \"alignmentgroup\": \"True\", \"yaxis\": \"y\", \"orientation\": \"v\", \"xaxis\": \"x\", \"hovertemplate\": \"sim_index=6.0<br>ctp_bin_labels=%{x}<br>ctp_bin_prob=%{y}<extra></extra>\", \"marker\": {\"color\": \"#636efa\"}, \"type\": \"bar\", \"x\": [0.7789473684210526, 0.7947368421052632, 0.8105263157894737, 0.8263157894736842, 0.8421052631578947, 0.8578947368421053, 0.8736842105263158, 0.8894736842105263, 0.9052631578947369, 0.9210526315789473, 0.9368421052631579, 0.9526315789473685, 0.968421052631579], \"y\": [0.0005, 0.005, 0.0335, 0.04, 0.1495, 0.1205, 0.271, 0.1275, 0.176, 0.062, 0.008, 0.0055, 0.001], \"textposition\": \"auto\", \"name\": \"\", \"offsetgroup\": \"\", \"legendgroup\": \"\"}], \"name\": \"6.0\"}, {\"data\": [{\"showlegend\": false, \"alignmentgroup\": \"True\", \"yaxis\": \"y\", \"orientation\": \"v\", \"xaxis\": \"x\", \"hovertemplate\": \"sim_index=7.0<br>ctp_bin_labels=%{x}<br>ctp_bin_prob=%{y}<extra></extra>\", \"marker\": {\"color\": \"#636efa\"}, \"type\": \"bar\", \"x\": [0.763157894736842, 0.7947368421052632, 0.8105263157894737, 0.8263157894736842, 0.8421052631578947, 0.8578947368421053, 0.8736842105263158, 0.8894736842105263, 0.9052631578947369, 0.9210526315789473, 0.9368421052631579, 0.9526315789473685], \"y\": [0.0003333333333333333, 0.006333333333333333, 0.026, 0.043, 0.148, 0.123, 0.274, 0.12233333333333334, 0.171, 0.07033333333333333, 0.009333333333333334, 0.006333333333333333], \"textposition\": \"auto\", \"name\": \"\", \"offsetgroup\": \"\", \"legendgroup\": \"\"}], \"name\": \"7.0\"}]);})\n",
       "    }\n",
       "        });</script><script type=\"text/javascript\">window.addEventListener(\"resize\", function(){if (document.getElementById(\"1d6d2925-c0db-4f26-ad3c-ad5edb215abb\")) {window._Plotly.Plots.resize(document.getElementById(\"1d6d2925-c0db-4f26-ad3c-ad5edb215abb\"));};})</script>"
      ],
      "text/vnd.plotly.v1+html": [
       "<div id=\"1d6d2925-c0db-4f26-ad3c-ad5edb215abb\" style=\"height: 600px; width: 100%;\" class=\"plotly-graph-div\"></div><script type=\"text/javascript\">require([\"plotly\"], function(Plotly) { window.PLOTLYENV=window.PLOTLYENV || {};window.PLOTLYENV.BASE_URL=\"https://plot.ly\";\n",
       "    if (document.getElementById(\"1d6d2925-c0db-4f26-ad3c-ad5edb215abb\")) {\n",
       "        Plotly.plot(\n",
       "            '1d6d2925-c0db-4f26-ad3c-ad5edb215abb',\n",
       "            [{\"showlegend\": false, \"alignmentgroup\": \"True\", \"yaxis\": \"y\", \"orientation\": \"v\", \"xaxis\": \"x\", \"hovertemplate\": \"sim_index=0.0<br>ctp_bin_labels=%{x}<br>ctp_bin_prob=%{y}<extra></extra>\", \"marker\": {\"color\": \"#636efa\"}, \"type\": \"bar\", \"x\": [0.8263157894736842, 0.8421052631578947, 0.8578947368421053, 0.8736842105263158, 0.8894736842105263, 0.9052631578947369, 0.9210526315789473], \"y\": [0.05, 0.1, 0.15, 0.25, 0.25, 0.15, 0.05], \"uid\": \"dda70430-3fa6-4a7b-a809-728209d71c2a\", \"textposition\": \"auto\", \"name\": \"\", \"offsetgroup\": \"\", \"legendgroup\": \"\"}],\n",
       "            {\"updatemenus\": [{\"direction\": \"left\", \"buttons\": [{\"method\": \"animate\", \"args\": [null, {\"frame\": {\"redraw\": true, \"duration\": 500}, \"transition\": {\"easing\": \"linear\", \"duration\": 500}, \"fromcurrent\": true, \"mode\": \"immediate\"}], \"label\": \"&#9654;\"}, {\"method\": \"animate\", \"args\": [[null], {\"frame\": {\"redraw\": true, \"duration\": 0}, \"transition\": {\"easing\": \"linear\", \"duration\": 0}, \"fromcurrent\": true, \"mode\": \"immediate\"}], \"label\": \"&#9724;\"}], \"yanchor\": \"top\", \"showactive\": false, \"pad\": {\"r\": 10, \"t\": 70}, \"xanchor\": \"right\", \"type\": \"buttons\", \"x\": 0.1, \"y\": 0}], \"legend\": {\"tracegroupgap\": 0}, \"height\": 600, \"xaxis\": {\"title\": {\"text\": \"ctp_bin_labels\"}}, \"margin\": {\"t\": 60}, \"barmode\": \"relative\", \"grid\": {\"xgap\": 0.1, \"xside\": \"bottom\", \"yaxes\": [\"y\"], \"yside\": \"left\", \"ygap\": 0.1, \"xaxes\": [\"x\"]}, \"yaxis\": {\"title\": {\"text\": \"ctp_bin_prob\"}, \"range\": [0, 0.4]}, \"sliders\": [{\"steps\": [{\"method\": \"animate\", \"args\": [[\"0.0\"], {\"frame\": {\"redraw\": true, \"duration\": 0}, \"transition\": {\"easing\": \"linear\", \"duration\": 0}, \"fromcurrent\": true, \"mode\": \"immediate\"}], \"label\": \"0.0\"}, {\"method\": \"animate\", \"args\": [[\"1.0\"], {\"frame\": {\"redraw\": true, \"duration\": 0}, \"transition\": {\"easing\": \"linear\", \"duration\": 0}, \"fromcurrent\": true, \"mode\": \"immediate\"}], \"label\": \"1.0\"}, {\"method\": \"animate\", \"args\": [[\"2.0\"], {\"frame\": {\"redraw\": true, \"duration\": 0}, \"transition\": {\"easing\": \"linear\", \"duration\": 0}, \"fromcurrent\": true, \"mode\": \"immediate\"}], \"label\": \"2.0\"}, {\"method\": \"animate\", \"args\": [[\"3.0\"], {\"frame\": {\"redraw\": true, \"duration\": 0}, \"transition\": {\"easing\": \"linear\", \"duration\": 0}, \"fromcurrent\": true, \"mode\": \"immediate\"}], \"label\": \"3.0\"}, {\"method\": \"animate\", \"args\": [[\"4.0\"], {\"frame\": {\"redraw\": true, \"duration\": 0}, \"transition\": {\"easing\": \"linear\", \"duration\": 0}, \"fromcurrent\": true, \"mode\": \"immediate\"}], \"label\": \"4.0\"}, {\"method\": \"animate\", \"args\": [[\"5.0\"], {\"frame\": {\"redraw\": true, \"duration\": 0}, \"transition\": {\"easing\": \"linear\", \"duration\": 0}, \"fromcurrent\": true, \"mode\": \"immediate\"}], \"label\": \"5.0\"}, {\"method\": \"animate\", \"args\": [[\"6.0\"], {\"frame\": {\"redraw\": true, \"duration\": 0}, \"transition\": {\"easing\": \"linear\", \"duration\": 0}, \"fromcurrent\": true, \"mode\": \"immediate\"}], \"label\": \"6.0\"}, {\"method\": \"animate\", \"args\": [[\"7.0\"], {\"frame\": {\"redraw\": true, \"duration\": 0}, \"transition\": {\"easing\": \"linear\", \"duration\": 0}, \"fromcurrent\": true, \"mode\": \"immediate\"}], \"label\": \"7.0\"}], \"yanchor\": \"top\", \"active\": 0, \"len\": 0.9, \"pad\": {\"b\": 10, \"t\": 60}, \"xanchor\": \"left\", \"x\": 0.1, \"y\": 0, \"currentvalue\": {\"prefix\": \"sim_index=\"}}], \"template\": {\"data\": {\"scatterpolargl\": [{\"marker\": {\"colorbar\": {\"ticks\": \"\", \"outlinewidth\": 0}}, \"type\": \"scatterpolargl\"}], \"bar\": [{\"marker\": {\"line\": {\"color\": \"#E5ECF6\", \"width\": 0.5}}, \"type\": \"bar\"}], \"choropleth\": [{\"type\": \"choropleth\", \"colorbar\": {\"ticks\": \"\", \"outlinewidth\": 0}}], \"carpet\": [{\"type\": \"carpet\", \"baxis\": {\"linecolor\": \"white\", \"gridcolor\": \"white\", \"endlinecolor\": \"#2a3f5f\", \"startlinecolor\": \"#2a3f5f\", \"minorgridcolor\": \"white\"}, \"aaxis\": {\"linecolor\": \"white\", \"gridcolor\": \"white\", \"endlinecolor\": \"#2a3f5f\", \"startlinecolor\": \"#2a3f5f\", \"minorgridcolor\": \"white\"}}], \"histogram\": [{\"marker\": {\"colorbar\": {\"ticks\": \"\", \"outlinewidth\": 0}}, \"type\": \"histogram\"}], \"parcoords\": [{\"line\": {\"colorbar\": {\"ticks\": \"\", \"outlinewidth\": 0}}, \"type\": \"parcoords\"}], \"barpolar\": [{\"marker\": {\"line\": {\"color\": \"#E5ECF6\", \"width\": 0.5}}, \"type\": \"barpolar\"}], \"heatmapgl\": [{\"type\": \"heatmapgl\", \"colorbar\": {\"ticks\": \"\", \"outlinewidth\": 0}}], \"scatter3d\": [{\"marker\": {\"colorbar\": {\"ticks\": \"\", \"outlinewidth\": 0}}, \"type\": \"scatter3d\"}], \"scattermapbox\": [{\"marker\": {\"colorbar\": {\"ticks\": \"\", \"outlinewidth\": 0}}, \"type\": \"scattermapbox\"}], \"surface\": [{\"type\": \"surface\", \"colorbar\": {\"ticks\": \"\", \"outlinewidth\": 0}}], \"histogram2d\": [{\"type\": \"histogram2d\", \"autocolorscale\": true, \"colorbar\": {\"ticks\": \"\", \"outlinewidth\": 0}}], \"heatmap\": [{\"type\": \"heatmap\", \"autocolorscale\": true, \"colorbar\": {\"ticks\": \"\", \"outlinewidth\": 0}}], \"scatter\": [{\"marker\": {\"colorbar\": {\"ticks\": \"\", \"outlinewidth\": 0}}, \"type\": \"scatter\"}], \"scatterternary\": [{\"marker\": {\"colorbar\": {\"ticks\": \"\", \"outlinewidth\": 0}}, \"type\": \"scatterternary\"}], \"scattergeo\": [{\"marker\": {\"colorbar\": {\"ticks\": \"\", \"outlinewidth\": 0}}, \"type\": \"scattergeo\"}], \"histogram2dcontour\": [{\"type\": \"histogram2dcontour\", \"autocolorscale\": true, \"colorbar\": {\"ticks\": \"\", \"outlinewidth\": 0}}], \"mesh3d\": [{\"type\": \"mesh3d\", \"colorbar\": {\"ticks\": \"\", \"outlinewidth\": 0}}], \"scattercarpet\": [{\"marker\": {\"colorbar\": {\"ticks\": \"\", \"outlinewidth\": 0}}, \"type\": \"scattercarpet\"}], \"contourcarpet\": [{\"type\": \"contourcarpet\", \"colorbar\": {\"ticks\": \"\", \"outlinewidth\": 0}}], \"scatterpolar\": [{\"marker\": {\"colorbar\": {\"ticks\": \"\", \"outlinewidth\": 0}}, \"type\": \"scatterpolar\"}], \"table\": [{\"type\": \"table\", \"header\": {\"line\": {\"color\": \"white\"}, \"fill\": {\"color\": \"#C8D4E3\"}}, \"cells\": {\"line\": {\"color\": \"white\"}, \"fill\": {\"color\": \"#EBF0F8\"}}}], \"scattergl\": [{\"marker\": {\"colorbar\": {\"ticks\": \"\", \"outlinewidth\": 0}}, \"type\": \"scattergl\"}], \"contour\": [{\"type\": \"contour\", \"autocolorscale\": true, \"colorbar\": {\"ticks\": \"\", \"outlinewidth\": 0}}]}, \"layout\": {\"yaxis\": {\"linecolor\": \"white\", \"ticks\": \"\", \"gridcolor\": \"white\", \"zerolinecolor\": \"white\", \"zerolinewidth\": 2, \"automargin\": true}, \"scene\": {\"yaxis\": {\"linecolor\": \"white\", \"ticks\": \"\", \"gridcolor\": \"white\", \"zerolinecolor\": \"white\", \"backgroundcolor\": \"#E5ECF6\", \"showbackground\": true, \"gridwidth\": 2}, \"zaxis\": {\"linecolor\": \"white\", \"ticks\": \"\", \"gridcolor\": \"white\", \"zerolinecolor\": \"white\", \"backgroundcolor\": \"#E5ECF6\", \"showbackground\": true, \"gridwidth\": 2}, \"xaxis\": {\"linecolor\": \"white\", \"ticks\": \"\", \"gridcolor\": \"white\", \"zerolinecolor\": \"white\", \"backgroundcolor\": \"#E5ECF6\", \"showbackground\": true, \"gridwidth\": 2}}, \"xaxis\": {\"linecolor\": \"white\", \"ticks\": \"\", \"gridcolor\": \"white\", \"zerolinecolor\": \"white\", \"zerolinewidth\": 2, \"automargin\": true}, \"hovermode\": \"closest\", \"colorscale\": {\"sequential\": [[0.0, \"#0508b8\"], [0.0893854748603352, \"#1910d8\"], [0.1787709497206704, \"#3c19f0\"], [0.2681564245810056, \"#6b1cfb\"], [0.3575418994413408, \"#981cfd\"], [0.44692737430167595, \"#bf1cfd\"], [0.5363128491620112, \"#dd2bfd\"], [0.6256983240223464, \"#f246fe\"], [0.7150837988826816, \"#fc67fd\"], [0.8044692737430168, \"#fe88fc\"], [0.8938547486033519, \"#fea5fd\"], [0.9832402234636871, \"#febefe\"], [1.0, \"#fec3fe\"]], \"diverging\": [[0, \"#8e0152\"], [0.1, \"#c51b7d\"], [0.2, \"#de77ae\"], [0.3, \"#f1b6da\"], [0.4, \"#fde0ef\"], [0.5, \"#f7f7f7\"], [0.6, \"#e6f5d0\"], [0.7, \"#b8e186\"], [0.8, \"#7fbc41\"], [0.9, \"#4d9221\"], [1, \"#276419\"]], \"sequentialminus\": [[0.0, \"#0508b8\"], [0.0893854748603352, \"#1910d8\"], [0.1787709497206704, \"#3c19f0\"], [0.2681564245810056, \"#6b1cfb\"], [0.3575418994413408, \"#981cfd\"], [0.44692737430167595, \"#bf1cfd\"], [0.5363128491620112, \"#dd2bfd\"], [0.6256983240223464, \"#f246fe\"], [0.7150837988826816, \"#fc67fd\"], [0.8044692737430168, \"#fe88fc\"], [0.8938547486033519, \"#fea5fd\"], [0.9832402234636871, \"#febefe\"], [1.0, \"#fec3fe\"]]}, \"ternary\": {\"caxis\": {\"linecolor\": \"white\", \"ticks\": \"\", \"gridcolor\": \"white\"}, \"bgcolor\": \"#E5ECF6\", \"baxis\": {\"linecolor\": \"white\", \"ticks\": \"\", \"gridcolor\": \"white\"}, \"aaxis\": {\"linecolor\": \"white\", \"ticks\": \"\", \"gridcolor\": \"white\"}}, \"geo\": {\"lakecolor\": \"white\", \"subunitcolor\": \"white\", \"showlakes\": true, \"landcolor\": \"#E5ECF6\", \"showland\": true, \"bgcolor\": \"white\"}, \"annotationdefaults\": {\"arrowcolor\": \"#506784\", \"arrowhead\": 0, \"arrowwidth\": 1}, \"mapbox\": {\"style\": \"light\"}, \"font\": {\"color\": \"#2a3f5f\"}, \"title\": {\"x\": 0.05}, \"shapedefaults\": {\"fillcolor\": \"#506784\", \"opacity\": 0.4, \"line\": {\"width\": 0}}, \"plot_bgcolor\": \"#E5ECF6\", \"colorway\": [\"#636efa\", \"#EF553B\", \"#00cc96\", \"#ab63fa\", \"#19d3f3\", \"#e763fa\", \"#FECB52\", \"#FFA15A\", \"#FF6692\", \"#B6E880\"], \"polar\": {\"angularaxis\": {\"linecolor\": \"white\", \"ticks\": \"\", \"gridcolor\": \"white\"}, \"radialaxis\": {\"linecolor\": \"white\", \"ticks\": \"\", \"gridcolor\": \"white\"}, \"bgcolor\": \"#E5ECF6\"}, \"paper_bgcolor\": \"white\"}}},\n",
       "            {\"linkText\": \"Export to plot.ly\", \"showLink\": false, \"plotlyServerURL\": \"https://plot.ly\"}\n",
       "        ).then(function () {return Plotly.addFrames('1d6d2925-c0db-4f26-ad3c-ad5edb215abb',[{\"data\": [{\"showlegend\": false, \"alignmentgroup\": \"True\", \"yaxis\": \"y\", \"orientation\": \"v\", \"xaxis\": \"x\", \"hovertemplate\": \"sim_index=0.0<br>ctp_bin_labels=%{x}<br>ctp_bin_prob=%{y}<extra></extra>\", \"marker\": {\"color\": \"#636efa\"}, \"type\": \"bar\", \"x\": [0.8263157894736842, 0.8421052631578947, 0.8578947368421053, 0.8736842105263158, 0.8894736842105263, 0.9052631578947369, 0.9210526315789473], \"y\": [0.05, 0.1, 0.15, 0.25, 0.25, 0.15, 0.05], \"textposition\": \"auto\", \"name\": \"\", \"offsetgroup\": \"\", \"legendgroup\": \"\"}], \"name\": \"0.0\"}, {\"data\": [{\"showlegend\": false, \"alignmentgroup\": \"True\", \"yaxis\": \"y\", \"orientation\": \"v\", \"xaxis\": \"x\", \"hovertemplate\": \"sim_index=1.0<br>ctp_bin_labels=%{x}<br>ctp_bin_prob=%{y}<extra></extra>\", \"marker\": {\"color\": \"#636efa\"}, \"type\": \"bar\", \"x\": [0.7947368421052632, 0.8105263157894737, 0.8263157894736842, 0.8421052631578947, 0.8578947368421053, 0.8736842105263158, 0.8894736842105263, 0.9052631578947369, 0.9210526315789473], \"y\": [0.06, 0.08, 0.06, 0.1, 0.04, 0.26, 0.08, 0.22, 0.1], \"textposition\": \"auto\", \"name\": \"\", \"offsetgroup\": \"\", \"legendgroup\": \"\"}], \"name\": \"1.0\"}, {\"data\": [{\"showlegend\": false, \"alignmentgroup\": \"True\", \"yaxis\": \"y\", \"orientation\": \"v\", \"xaxis\": \"x\", \"hovertemplate\": \"sim_index=2.0<br>ctp_bin_labels=%{x}<br>ctp_bin_prob=%{y}<extra></extra>\", \"marker\": {\"color\": \"#636efa\"}, \"type\": \"bar\", \"x\": [0.7947368421052632, 0.8105263157894737, 0.8421052631578947, 0.8578947368421053, 0.8736842105263158, 0.8894736842105263, 0.9052631578947369, 0.9210526315789473, 0.9368421052631579, 0.9526315789473685], \"y\": [0.01, 0.06, 0.11, 0.07, 0.28, 0.17, 0.17, 0.11, 0.01, 0.01], \"textposition\": \"auto\", \"name\": \"\", \"offsetgroup\": \"\", \"legendgroup\": \"\"}], \"name\": \"2.0\"}, {\"data\": [{\"showlegend\": false, \"alignmentgroup\": \"True\", \"yaxis\": \"y\", \"orientation\": \"v\", \"xaxis\": \"x\", \"hovertemplate\": \"sim_index=3.0<br>ctp_bin_labels=%{x}<br>ctp_bin_prob=%{y}<extra></extra>\", \"marker\": {\"color\": \"#636efa\"}, \"type\": \"bar\", \"x\": [0.7947368421052632, 0.8105263157894737, 0.8263157894736842, 0.8421052631578947, 0.8578947368421053, 0.8736842105263158, 0.8894736842105263, 0.9052631578947369, 0.9210526315789473, 0.9368421052631579, 0.9526315789473685], \"y\": [0.004, 0.02, 0.04, 0.148, 0.12, 0.328, 0.116, 0.168, 0.044, 0.008, 0.004], \"textposition\": \"auto\", \"name\": \"\", \"offsetgroup\": \"\", \"legendgroup\": \"\"}], \"name\": \"3.0\"}, {\"data\": [{\"showlegend\": false, \"alignmentgroup\": \"True\", \"yaxis\": \"y\", \"orientation\": \"v\", \"xaxis\": \"x\", \"hovertemplate\": \"sim_index=4.0<br>ctp_bin_labels=%{x}<br>ctp_bin_prob=%{y}<extra></extra>\", \"marker\": {\"color\": \"#636efa\"}, \"type\": \"bar\", \"x\": [0.763157894736842, 0.7789473684210526, 0.7947368421052632, 0.8105263157894737, 0.8263157894736842, 0.8421052631578947, 0.8578947368421053, 0.8736842105263158, 0.8894736842105263, 0.9052631578947369, 0.9210526315789473, 0.9368421052631579], \"y\": [0.002, 0.004, 0.014, 0.024, 0.034, 0.156, 0.106, 0.288, 0.112, 0.194, 0.06, 0.006], \"textposition\": \"auto\", \"name\": \"\", \"offsetgroup\": \"\", \"legendgroup\": \"\"}], \"name\": \"4.0\"}, {\"data\": [{\"showlegend\": false, \"alignmentgroup\": \"True\", \"yaxis\": \"y\", \"orientation\": \"v\", \"xaxis\": \"x\", \"hovertemplate\": \"sim_index=5.0<br>ctp_bin_labels=%{x}<br>ctp_bin_prob=%{y}<extra></extra>\", \"marker\": {\"color\": \"#636efa\"}, \"type\": \"bar\", \"x\": [0.7947368421052632, 0.8105263157894737, 0.8263157894736842, 0.8421052631578947, 0.8578947368421053, 0.8736842105263158, 0.8894736842105263, 0.9052631578947369, 0.9210526315789473, 0.9368421052631579, 0.9526315789473685, 0.968421052631579], \"y\": [0.006, 0.026, 0.039, 0.149, 0.127, 0.285, 0.131, 0.175, 0.049, 0.01, 0.002, 0.001], \"textposition\": \"auto\", \"name\": \"\", \"offsetgroup\": \"\", \"legendgroup\": \"\"}], \"name\": \"5.0\"}, {\"data\": [{\"showlegend\": false, \"alignmentgroup\": \"True\", \"yaxis\": \"y\", \"orientation\": \"v\", \"xaxis\": \"x\", \"hovertemplate\": \"sim_index=6.0<br>ctp_bin_labels=%{x}<br>ctp_bin_prob=%{y}<extra></extra>\", \"marker\": {\"color\": \"#636efa\"}, \"type\": \"bar\", \"x\": [0.7789473684210526, 0.7947368421052632, 0.8105263157894737, 0.8263157894736842, 0.8421052631578947, 0.8578947368421053, 0.8736842105263158, 0.8894736842105263, 0.9052631578947369, 0.9210526315789473, 0.9368421052631579, 0.9526315789473685, 0.968421052631579], \"y\": [0.0005, 0.005, 0.0335, 0.04, 0.1495, 0.1205, 0.271, 0.1275, 0.176, 0.062, 0.008, 0.0055, 0.001], \"textposition\": \"auto\", \"name\": \"\", \"offsetgroup\": \"\", \"legendgroup\": \"\"}], \"name\": \"6.0\"}, {\"data\": [{\"showlegend\": false, \"alignmentgroup\": \"True\", \"yaxis\": \"y\", \"orientation\": \"v\", \"xaxis\": \"x\", \"hovertemplate\": \"sim_index=7.0<br>ctp_bin_labels=%{x}<br>ctp_bin_prob=%{y}<extra></extra>\", \"marker\": {\"color\": \"#636efa\"}, \"type\": \"bar\", \"x\": [0.763157894736842, 0.7947368421052632, 0.8105263157894737, 0.8263157894736842, 0.8421052631578947, 0.8578947368421053, 0.8736842105263158, 0.8894736842105263, 0.9052631578947369, 0.9210526315789473, 0.9368421052631579, 0.9526315789473685], \"y\": [0.0003333333333333333, 0.006333333333333333, 0.026, 0.043, 0.148, 0.123, 0.274, 0.12233333333333334, 0.171, 0.07033333333333333, 0.009333333333333334, 0.006333333333333333], \"textposition\": \"auto\", \"name\": \"\", \"offsetgroup\": \"\", \"legendgroup\": \"\"}], \"name\": \"7.0\"}]);})\n",
       "    }\n",
       "        });</script><script type=\"text/javascript\">window.addEventListener(\"resize\", function(){if (document.getElementById(\"1d6d2925-c0db-4f26-ad3c-ad5edb215abb\")) {window._Plotly.Plots.resize(document.getElementById(\"1d6d2925-c0db-4f26-ad3c-ad5edb215abb\"));};})</script>"
      ]
     },
     "metadata": {},
     "output_type": "display_data"
    }
   ],
   "source": [
    "draw_interactive_prob_bar_plot_for_simulations(\n",
    "    make_df_for_simulations(simulate_ctp)\n",
    ")"
   ]
  },
  {
   "cell_type": "markdown",
   "metadata": {},
   "source": [
    "## Probability Density Function"
   ]
  },
  {
   "cell_type": "code",
   "execution_count": 192,
   "metadata": {},
   "outputs": [
    {
     "data": {
      "image/png": "[encoded data removed]",
      "text/plain": [
       "<Figure size 864x504 with 1 Axes>"
      ]
     },
     "metadata": {
      "needs_background": "light"
     },
     "output_type": "display_data"
    }
   ],
   "source": [
    "f, ax = plt.subplots(figsize=(12, 7))\n",
    "\n",
    "\n",
    "sns.distplot(ctps, ax=ax)\n",
    "plt.axvline(mean_ctp, color='red')\n",
    "plt.axvline(lower_1_sigma_ctp, color='red')\n",
    "plt.axvline(upper_1_sigma_ctp, color='red')\n",
    "plt.axvspan(lower_1_sigma_ctp, upper_1_sigma_ctp, color='red', alpha=0.2)\n",
    "plt.axvline(ctp_current, color='green')\n",
    "values = dict(\n",
    "    mean=mean_ctp,\n",
    "    lower_1_sigma=lower_1_sigma_ctp,\n",
    "    upper_1_sigma=upper_1_sigma_ctp,\n",
    "    ctp_current=ctp_current\n",
    ")\n",
    "for k, val in values.items():\n",
    "    \n",
    "    x_text, y_text = val + np.random.uniform(-std_ctp, std_ctp), st.norm.pdf(val, loc=mean_ctp, scale=std_ctp)\n",
    "    plt.annotate(\n",
    "        '{}: {:.2f}'.format(k, val),\n",
    "        (val,8),\n",
    "        xytext=(x_text, y_text),\n",
    "        arrowprops=dict(\n",
    "            arrowstyle='-|>',\n",
    "            connectionstyle='angle3'\n",
    "        )\n",
    "    )\n",
    "\n",
    "plt.title('Distribution of CTP')\n",
    "plt.show()"
   ]
  },
  {
   "cell_type": "code",
   "execution_count": 189,
   "metadata": {},
   "outputs": [
    {
     "data": {
      "text/plain": [
       "12.013012099069801"
      ]
     },
     "execution_count": 189,
     "metadata": {},
     "output_type": "execute_result"
    }
   ],
   "source": [
    "def gaussian_dist_pdf(x, mean, std):\n",
    "    var = std ** 2\n",
    "    return np.power(np.e, -1 * (x - mean) ** 2 / (2 * var) ) / np.sqrt(2 * np.pi * var) \n",
    "\n",
    "gaussian_dist_pdf(0.85, mean_ctp, std_ctp)"
   ]
  },
  {
   "cell_type": "markdown",
   "metadata": {},
   "source": [
    "# References\n",
    "\n",
    "[1] [Click Through Probability](https://www.youtube.com/watch?v=LFLSApHc-jM)\n",
    "\n",
    "[2] [Click Through Rate](https://en.wikipedia.org/wiki/Click-through_rate)"
   ]
  }
 ],
 "metadata": {
  "kernelspec": {
   "display_name": "Python 3",
   "language": "python",
   "name": "python3"
  },
  "language_info": {
   "codemirror_mode": {
    "name": "ipython",
    "version": 3
   },
   "file_extension": ".py",
   "mimetype": "text/x-python",
   "name": "python",
   "nbconvert_exporter": "python",
   "pygments_lexer": "ipython3",
   "version": "3.5.4"
  }
 },
 "nbformat": 4,
 "nbformat_minor": 2
}
